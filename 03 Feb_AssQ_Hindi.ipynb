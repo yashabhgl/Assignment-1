{
 "cells": [
  {
   "cell_type": "code",
   "execution_count": 11,
   "id": "a9f42563-601d-47bb-bee5-41727a32dcfa",
   "metadata": {},
   "outputs": [
    {
     "name": "stdout",
     "output_type": "stream",
     "text": [
      "----- function to return a list of odd numbers in the range of 1 to 25-----\n",
      "[1, 3, 5, 7, 9, 11, 13, 15, 17, 19, 21, 23, 25]\n"
     ]
    }
   ],
   "source": [
    "#Q1. Which keyword is used to create a function? Create a function to return a list of odd numbers in the\n",
    "#    range of 1 to 25.\n",
    "\n",
    "# Ans.  The def keyword is used to create, (or define) a function. For Example :\n",
    "def example():\n",
    "    pass\n",
    "\n",
    "\n",
    "print(\"----- function to return a list of odd numbers in the range of 1 to 25-----\")\n",
    "number = []\n",
    "def odd_number():\n",
    "    for i in range(1,26):\n",
    "        if i%2 != 0 :\n",
    "            number.append(i)\n",
    "    print(list(number))\n",
    "\n",
    "odd_number()"
   ]
  },
  {
   "cell_type": "code",
   "execution_count": 10,
   "id": "2ba325e0-90af-4190-95e1-cca8a147a098",
   "metadata": {},
   "outputs": [
    {
     "name": "stdout",
     "output_type": "stream",
     "text": [
      "---- For *args-----\n",
      "sum =  48\n",
      "---- For *kwargs-----\n",
      "Name  =  Yashabh\n",
      "Class  =  Data Science\n",
      "Course  =  Pwskills\n"
     ]
    }
   ],
   "source": [
    "#Q2. Why *args and **kwargs is used in some functions? Create a function each for *args and **kwargs\n",
    "#    to demonstrate their use.\n",
    "\n",
    "# Ans. \n",
    "\n",
    "\"\"\"\n",
    "*args :- \n",
    "\n",
    "The special syntax *args in function definitions in python is used to pass a variable number of arguments to a function. \n",
    "It is used to pass a non-key worded, variable-length argument list. \n",
    "\n",
    "1. The syntax is to use the symbol * to take in a variable number of arguments; by convention, it is often used with the word args.\n",
    "2. What *args allows you to do is take in more arguments than the number of formal arguments that you previously defined. \n",
    "   With *args, any number of extra arguments can be tacked on to your current formal parameters (including zero extra arguments).\n",
    "3. For example, we want to make a multiply function that takes any number of arguments and is able to multiply them all together. \n",
    "   It can be done using *args.\n",
    "4. Using the *, the variable that we associate with the * becomes an iterable meaning you can do things like iterate over it, \n",
    "   run some higher-order functions such as map and filter, etc.\n",
    "\n",
    "\n",
    "**kwargs :-\n",
    "\n",
    "The special syntax **kwargs in function definitions in python is used to pass a keyworded, variable-length argument list. \n",
    "We use the name kwargs with the double star. The reason is that the double star allows us to pass through keyword arguments (and any number of them).\n",
    "\n",
    "1. A keyword argument is where you provide a name to the variable as you pass it into the function.\n",
    "2. One can think of the kwargs as being a dictionary that maps each keyword to the value that we pass alongside it. \n",
    "   That is why when we iterate over the kwargs there doesn’t seem to be any order in which they were printed out.\n",
    "\n",
    "\"\"\"\n",
    "print(\"---- For *args-----\")\n",
    "def test_sum(*args):\n",
    "    x = 0\n",
    "    for i in args:\n",
    "        x = x + i\n",
    "    print(\"sum = \",x)\n",
    "\n",
    "test_sum(1,2,34,5,6)\n",
    "\n",
    "print(\"---- For *kwargs-----\")\n",
    "def student(**kwargs):\n",
    "    for i,j in kwargs.items():\n",
    "        print ( i ,\" = \", j)\n",
    "\n",
    "student(Name=\"Yashabh\",Class=\"Data Science\",Course=\"Pwskills\")\n"
   ]
  },
  {
   "cell_type": "code",
   "execution_count": 10,
   "id": "0e09bd08-fdad-43d7-ba58-35ba63f0a3c1",
   "metadata": {},
   "outputs": [
    {
     "name": "stdout",
     "output_type": "stream",
     "text": [
      "first five elements of the given list [2, 4, 6, 8, 10, 12, 14, 16, 18, 20] = \n",
      "2\n",
      "4\n",
      "6\n",
      "8\n",
      "10\n"
     ]
    }
   ],
   "source": [
    "#Q3. What is an iterator in python? Name the method used to initialise the iterator object and the method\n",
    "#    used for iteration. Use these methods to print the first five elements of the given list [2, 4, 6, 8, 10, 12, 14,\n",
    "#    16, 18, 20].\n",
    "\n",
    "#Ans.\n",
    "\n",
    "\"\"\"\n",
    "Iterator in Python is an object that is used to iterate over iterable objects like lists, tuples, dicts, and sets. \n",
    "The iterator object is initialized using the iter() method. It uses the next() method for iteration.\n",
    "\n",
    "__iter__(): The iter() method is called for the initialization of an iterator. This returns an iterator object\n",
    "__next__(): The next method returns the next value for the iterable. When we use a for loop to traverse any iterable object, \n",
    "internally it uses the iter() method to get an iterator object, which further uses the next() method to iterate over.\n",
    "This method raises a StopIteration to signal the end of the iteration.\n",
    "\"\"\"\n",
    "\n",
    "l = [2, 4, 6, 8, 10, 12, 14, 16, 18, 20]\n",
    "n = iter(l)\n",
    "print(\"first five elements of the given list [2, 4, 6, 8, 10, 12, 14, 16, 18, 20] = \")\n",
    "for i in range(5):\n",
    "    print(next(n))"
   ]
  },
  {
   "cell_type": "code",
   "execution_count": 38,
   "id": "03c4e452-7e09-428c-9e70-6384d85a03a2",
   "metadata": {},
   "outputs": [
    {
     "data": {
      "text/plain": [
       "[1, 8, 27, 64, 125]"
      ]
     },
     "execution_count": 38,
     "metadata": {},
     "output_type": "execute_result"
    }
   ],
   "source": [
    "#Q4. What is a generator function in python? Why yield keyword is used? Give an example of a generator\n",
    "#    function.\n",
    "\n",
    "\n",
    "#Ans.\n",
    "\n",
    "\"\"\"\n",
    "Generator functions allow you to declare a function that behaves likes an iterator, \n",
    "allowing programmers to make an iterator in a fast, easy, and clean way. An iterator is an object that can be iterated or looped upon.\n",
    "It is used to abstract a container of data to make it behave like an iterable object.\n",
    "Examples of iterable objects that are used more commonly include lists, dictionaries, and strings.\n",
    "\n",
    "\n",
    "yield keyword is used to create a generator function. A type of function that is memory efficient and can be used like an iterator object. \n",
    "In layman terms, the yield keyword will turn any expression that is given with it into a generator object and return it to the caller.\n",
    "\"\"\"\n",
    "\n",
    "# Example of generator function\n",
    "\n",
    "def cube_gen(n):\n",
    "    for i in range(1,n+1):\n",
    "        yield (i**3)\n",
    "\n",
    "[i for i in cube_gen(5)]\n",
    "   "
   ]
  },
  {
   "cell_type": "code",
   "execution_count": 64,
   "id": "74c1d69e-9c45-46cb-9bd2-6dda2b459369",
   "metadata": {},
   "outputs": [
    {
     "name": "stdout",
     "output_type": "stream",
     "text": [
      "2\n",
      "3\n",
      "5\n",
      "7\n",
      "11\n",
      "13\n",
      "17\n",
      "19\n",
      "23\n",
      "29\n",
      "31\n",
      "37\n",
      "41\n",
      "43\n",
      "47\n",
      "53\n",
      "59\n",
      "61\n",
      "67\n",
      "71\n"
     ]
    }
   ],
   "source": [
    "#Q5. Create a generator function for prime numbers less than 1000. Use the next() method to print the\n",
    "#    first 20 prime numbers.\n",
    "\n",
    "#Ans.\n",
    "\n",
    "\n",
    "def prime_no():\n",
    "    yield \"2\"\n",
    "    for i in range(2,1000):\n",
    "        for x in range(2,i):\n",
    "            if i%x!=0:\n",
    "                if x==(i-1):\n",
    "                    yield i\n",
    "                    \n",
    "                continue\n",
    "            else:\n",
    "                break\n",
    "        \n",
    "    \n",
    "prime =  prime_no()\n",
    "for i in range(20):\n",
    "    print( next(prime))\n",
    "\n"
   ]
  },
  {
   "cell_type": "code",
   "execution_count": 70,
   "id": "4c5891f5-aa98-454a-84d8-4d8f5d518883",
   "metadata": {},
   "outputs": [
    {
     "name": "stdout",
     "output_type": "stream",
     "text": [
      "0\n",
      "1\n",
      "1\n",
      "2\n",
      "3\n",
      "5\n",
      "8\n",
      "13\n",
      "21\n",
      "34\n"
     ]
    }
   ],
   "source": [
    "#Q6. Write a python program to print the first 10 Fibonacci numbers using a while loop.\n",
    "\n",
    "#Ans. \n",
    "\n",
    "a = 0\n",
    "b = 1\n",
    "i = 1\n",
    "while i<=10:\n",
    "    print (a)\n",
    "    a,b = b,a+b\n",
    "    i+=1"
   ]
  },
  {
   "cell_type": "code",
   "execution_count": 73,
   "id": "d2b296d2-af3c-4235-934d-cc531f46ce97",
   "metadata": {},
   "outputs": [
    {
     "data": {
      "text/plain": [
       "['p', 'w', 's', 'k', 'i', 'l', 'l', 's']"
      ]
     },
     "execution_count": 73,
     "metadata": {},
     "output_type": "execute_result"
    }
   ],
   "source": [
    "#Q7. Write a List Comprehension to iterate through the given string: ‘pwskills’.\n",
    "#    Expected output: ['p', 'w', 's', 'k', 'i', 'l', 'l', 's']\n",
    "\n",
    "#Ans.\n",
    "\n",
    "string = \"pwskills\"\n",
    "[i for i in string]"
   ]
  },
  {
   "cell_type": "code",
   "execution_count": 3,
   "id": "58794ee7-31eb-4fea-87bd-1b86008c66d8",
   "metadata": {},
   "outputs": [
    {
     "name": "stdin",
     "output_type": "stream",
     "text": [
      "Enter a number =  1221\n"
     ]
    },
    {
     "name": "stdout",
     "output_type": "stream",
     "text": [
      "The Entered number is Palindrome\n"
     ]
    }
   ],
   "source": [
    "#Q8. Write a python program to check whether a given number is Palindrome or not using a while loop.\n",
    "\n",
    "#Ans.\n",
    "\n",
    "n = int(input(\"Enter a number = \"))\n",
    "n = str(n)\n",
    "while True:\n",
    "    n1 = n[::-1]\n",
    "    if n == n1:        \n",
    "        print(\"The Entered number is Palindrome\")\n",
    "        break\n",
    "    else:\n",
    "        print(\"not a palindrome number\")\n",
    "        break"
   ]
  },
  {
   "cell_type": "code",
   "execution_count": 11,
   "id": "b999e610-37a0-4c8c-a979-2a49298a6645",
   "metadata": {},
   "outputs": [
    {
     "name": "stdout",
     "output_type": "stream",
     "text": [
      "[1, 3, 5, 7, 9, 11, 13, 15, 17, 19, 21, 23, 25, 27, 29, 31, 33, 35, 37, 39, 41, 43, 45, 47, 49, 51, 53, 55, 57, 59, 61, 63, 65, 67, 69, 71, 73, 75, 77, 79, 81, 83, 85, 87, 89, 91, 93, 95, 97, 99]\n"
     ]
    }
   ],
   "source": [
    "# Q9. Write a code to print odd numbers from 1 to 100 using list comprehension.\n",
    "\n",
    "#Ans.\n",
    "\n",
    "list1 = []\n",
    "[ list1.append(i) for i in range(1,101)]\n",
    "list2 = []\n",
    "[ list2.append(i) for i in list1 if i%2!=0]\n",
    "print(l1)"
   ]
  }
 ],
 "metadata": {
  "kernelspec": {
   "display_name": "Python 3 (ipykernel)",
   "language": "python",
   "name": "python3"
  },
  "language_info": {
   "codemirror_mode": {
    "name": "ipython",
    "version": 3
   },
   "file_extension": ".py",
   "mimetype": "text/x-python",
   "name": "python",
   "nbconvert_exporter": "python",
   "pygments_lexer": "ipython3",
   "version": "3.10.8"
  }
 },
 "nbformat": 4,
 "nbformat_minor": 5
}
