{
 "cells": [
  {
   "cell_type": "code",
   "execution_count": 13,
   "id": "08c9a592-6926-42f3-aa69-f2973609a9cc",
   "metadata": {},
   "outputs": [
    {
     "name": "stdout",
     "output_type": "stream",
     "text": [
      "[('Virat Kohli', 24936), ('Jack Kallis', 25534), ('Ricky Ponting', 27483), ('Sachin Tendulkar', 34357)]\n"
     ]
    }
   ],
   "source": [
    "# Q1. Create a python program to sort the given list of tuples based on integer value using a\n",
    "#     lambda function.\n",
    "# [('Sachin Tendulkar', 34357), ('Ricky Ponting', 27483), ('Jack Kallis', 25534), ('Virat Kohli', 24936)]\n",
    "\n",
    "#Ans.\n",
    "\n",
    "\n",
    "l = [('Sachin Tendulkar', 34357), ('Ricky Ponting', 27483), ('Jack Kallis', 25534), ('Virat Kohli', 24936)]\n",
    "l.sort(key= lambda x:x[1])\n",
    "print(list(l))"
   ]
  },
  {
   "cell_type": "code",
   "execution_count": 2,
   "id": "982dbd99-b84d-432b-b71d-599f4015e939",
   "metadata": {},
   "outputs": [
    {
     "data": {
      "text/plain": [
       "[1, 4, 9, 16, 25, 36, 49, 64, 81, 100]"
      ]
     },
     "execution_count": 2,
     "metadata": {},
     "output_type": "execute_result"
    }
   ],
   "source": [
    "#Q2. Write a Python Program to find the squares of all the numbers in the given list of integers using\n",
    "#    lambda and map functions.\n",
    "#    [1, 2, 3, 4, 5, 6, 7, 8, 9, 10]\n",
    "\n",
    "#Ans.\n",
    "\n",
    "\n",
    "l= [1, 2, 3, 4, 5, 6, 7, 8, 9, 10]\n",
    "list(map(lambda x: x**2, l)) "
   ]
  },
  {
   "cell_type": "code",
   "execution_count": 2,
   "id": "c6b72f2a-148a-4c36-be11-2442bf8615ba",
   "metadata": {},
   "outputs": [
    {
     "data": {
      "text/plain": [
       "['1', '2', '3', '4', '5', '6', '7', '8', '9', '10']"
      ]
     },
     "execution_count": 2,
     "metadata": {},
     "output_type": "execute_result"
    }
   ],
   "source": [
    "\"\"\"\n",
    "#Q3. Write a python program to convert the given list of integers into a tuple of strings. Use map and\n",
    "lambda functions\n",
    "Given String: [1, 2, 3, 4, 5, 6, 7, 8, 9, 10]\n",
    "Expected output: ('1', '2', '3', '4', '5', '6', '7', '8', '9', '10')\n",
    "\"\"\"\n",
    "\n",
    "String = [1, 2, 3, 4, 5, 6, 7, 8, 9, 10]\n",
    "list(map(lambda x: str(x),String))"
   ]
  },
  {
   "cell_type": "code",
   "execution_count": 18,
   "id": "c5dc2395-bd9c-4b6f-952b-c6a8e4c5c7ed",
   "metadata": {},
   "outputs": [
    {
     "data": {
      "text/plain": [
       "15511210043330985984000000"
      ]
     },
     "execution_count": 18,
     "metadata": {},
     "output_type": "execute_result"
    }
   ],
   "source": [
    "#Q4. Write a python program using reduce function to compute the product of a list containing numbers\n",
    "#    from 1 to 25.\n",
    "\n",
    "#Ans. \n",
    "\n",
    "from functools import reduce\n",
    "l =[]\n",
    "[l.append(i) for i in range(1,26)]\n",
    "reduce(lambda x,y : x*y, l)"
   ]
  },
  {
   "cell_type": "code",
   "execution_count": 17,
   "id": "3a02aa09-0a0e-47c0-93ad-c513121b4078",
   "metadata": {},
   "outputs": [
    {
     "data": {
      "text/plain": [
       "[6, 60, 90, 120]"
      ]
     },
     "execution_count": 17,
     "metadata": {},
     "output_type": "execute_result"
    }
   ],
   "source": [
    "#Q5. Write a python program to filter the numbers in a given list that are divisible by 2 and 3 using the\n",
    "#    filter function.\n",
    "#    [2, 3, 6, 9, 27, 60, 90, 120, 55, 46]\n",
    "\n",
    "#Ans.\n",
    "\n",
    "l= [2, 3, 6, 9, 27, 60, 90, 120, 55, 46]\n",
    "list(filter(lambda  x: x%2==0 and x%3==0, l))"
   ]
  },
  {
   "cell_type": "code",
   "execution_count": 29,
   "id": "b7d4a00e-013c-4c97-91a3-0794d4025bed",
   "metadata": {},
   "outputs": [
    {
     "data": {
      "text/plain": [
       "['php', 'aba', 'radar', 'level']"
      ]
     },
     "execution_count": 29,
     "metadata": {},
     "output_type": "execute_result"
    }
   ],
   "source": [
    "\"\"\"\n",
    "Q6. Write a python program to find palindromes in the given list of strings using lambda and filter\n",
    "function.\n",
    "['python', 'php', 'aba', 'radar', 'level']\n",
    "\"\"\"\n",
    "strings = ['python', 'php', 'aba', 'radar', 'level']\n",
    "list(filter(lambda x : x == x[::-1], strings))"
   ]
  }
 ],
 "metadata": {
  "kernelspec": {
   "display_name": "Python 3 (ipykernel)",
   "language": "python",
   "name": "python3"
  },
  "language_info": {
   "codemirror_mode": {
    "name": "ipython",
    "version": 3
   },
   "file_extension": ".py",
   "mimetype": "text/x-python",
   "name": "python",
   "nbconvert_exporter": "python",
   "pygments_lexer": "ipython3",
   "version": "3.10.8"
  }
 },
 "nbformat": 4,
 "nbformat_minor": 5
}
