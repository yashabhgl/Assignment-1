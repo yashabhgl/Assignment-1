{
 "cells": [
  {
   "cell_type": "code",
   "execution_count": 13,
   "id": "2d0673f9-565e-4870-8c92-8ecc1652a996",
   "metadata": {},
   "outputs": [
    {
     "name": "stdin",
     "output_type": "stream",
     "text": [
      "enter your percentage =  85\n"
     ]
    },
    {
     "name": "stdout",
     "output_type": "stream",
     "text": [
      "You got Grade B\n"
     ]
    }
   ],
   "source": [
    "# 1. Write a program to accept percentage from the user and display the grade according to the following \n",
    "\n",
    "#Ans\n",
    "\n",
    "perc = int(input(\"enter your percentage = \"))\n",
    "if (perc > 90) :\n",
    "    print (\"You got Grade A\")\n",
    "elif (perc > 80 and perc <= 90) :\n",
    "    print(\"You got Grade B\")\n",
    "elif (perc >= 60 and perc <= 80) :\n",
    "    print (\"You got Grade C\")\n",
    "else :\n",
    "    print(\"You got Grade D\")"
   ]
  },
  {
   "cell_type": "code",
   "execution_count": 1,
   "id": "4f58272e-4eaa-4f00-a73e-634ee293773f",
   "metadata": {},
   "outputs": [
    {
     "name": "stdin",
     "output_type": "stream",
     "text": [
      "Enter the cost price of bike =  150000\n"
     ]
    },
    {
     "name": "stdout",
     "output_type": "stream",
     "text": [
      " TAX = 15%\n"
     ]
    }
   ],
   "source": [
    "# 2. Write a program to accept the cost price of a bike and display the road tax to be paid according to the \n",
    "#    following criteria: \n",
    "\n",
    "\n",
    "#Ans\n",
    "\n",
    "cprice = int(input(\"Enter the cost price of bike = \"))\n",
    "if (cprice > 100000):\n",
    "    print (\" TAX = 15%\")\n",
    "elif (cprice > 50000 and cprice <=100000):\n",
    "    print (\"TAX = 10%\")\n",
    "else :\n",
    "    print (\"TAX = 5%\")\n",
    "\n",
    "\n"
   ]
  },
  {
   "cell_type": "code",
   "execution_count": 2,
   "id": "6610da04-edd9-44e5-a060-35439df32093",
   "metadata": {},
   "outputs": [
    {
     "name": "stdin",
     "output_type": "stream",
     "text": [
      "Enter the city =  Delhi\n"
     ]
    },
    {
     "name": "stdout",
     "output_type": "stream",
     "text": [
      "Red Fort\n"
     ]
    }
   ],
   "source": [
    "# 3. Accept any city from the user and display monuments of that city.\n",
    "\n",
    "#Ans\n",
    "\n",
    "city = str(input(\"Enter the city = \"))\n",
    "if city == \"Delhi\" :\n",
    "    print (\"Red Fort\")\n",
    "elif city == \"Agra\" :\n",
    "    print (\"Taj Mahal\")\n",
    "elif city == \"Jaipur\" :\n",
    "    print(\"Jal Mahal\")\n",
    "else :\n",
    "    print (\" Wrong Destination \")"
   ]
  },
  {
   "cell_type": "code",
   "execution_count": 3,
   "id": "7a557b95-bfb5-43c1-9312-92c17a7f1930",
   "metadata": {},
   "outputs": [
    {
     "name": "stdin",
     "output_type": "stream",
     "text": [
      "Enter a number =  220\n"
     ]
    },
    {
     "name": "stdout",
     "output_type": "stream",
     "text": [
      "The Number 220 is divide 3 times by 3 before it is less than or equal to 10.\n"
     ]
    }
   ],
   "source": [
    "# 4.  Check how many times a given number can be divided by 3 before it is less than or equal to 10. \n",
    "\n",
    "\n",
    "#Ans\n",
    "\n",
    "numb = int(input(\"Enter a number = \"))\n",
    "temp = numb\n",
    "count = 0\n",
    "while (numb > 10):\n",
    "    numb = numb/3\n",
    "    count = count +1\n",
    "print (\"The Number \"+str(temp)+\" is divide \" +str(count)+\" times by 3 before it is less than or equal to 10.\")\n",
    "\n"
   ]
  },
  {
   "cell_type": "code",
   "execution_count": 4,
   "id": "a8662175-0792-4f43-9933-44471cf1ec0f",
   "metadata": {},
   "outputs": [
    {
     "name": "stdout",
     "output_type": "stream",
     "text": [
      "1\n",
      "2\n",
      "3\n",
      "4\n",
      "5\n",
      "6\n",
      "7\n",
      "8\n",
      "9\n",
      "10\n"
     ]
    }
   ],
   "source": [
    "# 5. Why and When to Use while Loop in Python give a detailed description with example \n",
    "\n",
    "#Ans\n",
    "\"\"\"\n",
    "A while loop in Python is used to repeatedly execute a block of code as long as a certain condition is met.\n",
    "Python While Loop is used to execute a block of statements repeatedly until a given condition is satisfied. \n",
    "And when the condition becomes false, the line immediately after the loop in the program is executed.\n",
    "\n",
    "The basic syntax of a while loop is\n",
    "\n",
    "while condition:\n",
    "    # code to be executed\n",
    "    \n",
    "Here, condition is a boolean expression that is evaluated before each iteration of the loop. \n",
    "If the condition is True, the loop body is executed, and the process repeats until the condition is False.\n",
    "\n",
    "\n",
    "Example is below this block: -\n",
    "\"\"\"\n",
    "\n",
    "# Example of while loop\n",
    "\n",
    "i = 1\n",
    "while i <= 10:\n",
    "    print(i)\n",
    "    i = i + 1"
   ]
  },
  {
   "cell_type": "code",
   "execution_count": 5,
   "id": "fc107122-3fec-4380-9267-01838ad94fea",
   "metadata": {},
   "outputs": [
    {
     "name": "stdout",
     "output_type": "stream",
     "text": [
      "----- 1 Nested Loop -----\n",
      " \n",
      "* \n",
      "\n",
      "* * \n",
      "\n",
      "* * * \n",
      "\n",
      "* * * * \n",
      "\n",
      "* * * * * \n",
      "\n",
      "----- 2 Nested Loop -----\n",
      "\n",
      " \n",
      "* * * * * \n",
      "\n",
      "* * * * \n",
      "\n",
      "* * * \n",
      "\n",
      "* * \n",
      "\n",
      "* \n",
      "\n",
      "----- 3 Nested Loop -----\n",
      "\n",
      " \n",
      "        * \n",
      "\n",
      "      * * * \n",
      "\n",
      "    * * * * * \n",
      "\n",
      "  * * * * * * * \n",
      "\n",
      "* * * * * * * * * \n",
      "\n"
     ]
    }
   ],
   "source": [
    "# 6. Use nested while loop to print 3 different pattern. \n",
    "\n",
    "\n",
    "# 1 Nested Loop\n",
    "print(\"----- 1 Nested Loop -----\\n \")\n",
    "i=1\n",
    "while i<=5:\n",
    "    j=1\n",
    "    while j<=i:\n",
    "        print(\"*\",end=\" \")\n",
    "        j+=1\n",
    "    print(\"\\n\")\n",
    "    i+=1\n",
    "    \n",
    "    \n",
    "# 2 Nested Loop\n",
    "print(\"----- 2 Nested Loop -----\\n\\n \")\n",
    "\n",
    "i=5\n",
    "while i>=1:\n",
    "    j=1\n",
    "    while j<=i:\n",
    "        print(\"*\",end=\" \")\n",
    "        j+=1\n",
    "    print(\"\\n\")\n",
    "    i-=1\n",
    "\n",
    "\n",
    "    \n",
    "# 3 Nested Loop\n",
    "print(\"----- 3 Nested Loop -----\\n\\n \")\n",
    "\n",
    "i=1\n",
    "while i<=5:\n",
    "    j=1\n",
    "    k=5\n",
    "    while k>i :\n",
    "        print (\" \",end=\" \")\n",
    "        k-=1\n",
    "    while j<=i:\n",
    "        print(\"*\",end=\" \")        \n",
    "        j+=1\n",
    "    l= i\n",
    "    while l > 1 :\n",
    "        print(\"*\",end=\" \")\n",
    "        l-=1\n",
    "    print(\"\\n\")\n",
    "    i+=1  \n",
    "\n"
   ]
  },
  {
   "cell_type": "code",
   "execution_count": 6,
   "id": "f622951b-386f-4ee1-92ba-cf79091d6d95",
   "metadata": {},
   "outputs": [
    {
     "name": "stdout",
     "output_type": "stream",
     "text": [
      "10\n",
      "9\n",
      "8\n",
      "7\n",
      "6\n",
      "5\n",
      "4\n",
      "3\n",
      "2\n",
      "1\n"
     ]
    }
   ],
   "source": [
    "# 7. Reverse a while loop to display numbers from 10 to 1. \n",
    "\n",
    "#Ans \n",
    "\n",
    "n = 10\n",
    "l = 1\n",
    "while n >= l :\n",
    "    print (n)\n",
    "    n-=1"
   ]
  },
  {
   "cell_type": "code",
   "execution_count": 7,
   "id": "1baf5ba9-fbf7-457e-a28d-d6e529e69c26",
   "metadata": {},
   "outputs": [
    {
     "name": "stdout",
     "output_type": "stream",
     "text": [
      "10\n",
      "9\n",
      "8\n",
      "7\n",
      "6\n",
      "5\n",
      "4\n",
      "3\n",
      "2\n",
      "1\n"
     ]
    }
   ],
   "source": [
    "# 8. Reverse a while loop to display numbers from 10 to 1 \n",
    "\n",
    "#Ans\n",
    "\n",
    "n = 10\n",
    "l = 1\n",
    "while n >= l :\n",
    "    print (n)\n",
    "    n-=1"
   ]
  }
 ],
 "metadata": {
  "kernelspec": {
   "display_name": "Python 3 (ipykernel)",
   "language": "python",
   "name": "python3"
  },
  "language_info": {
   "codemirror_mode": {
    "name": "ipython",
    "version": 3
   },
   "file_extension": ".py",
   "mimetype": "text/x-python",
   "name": "python",
   "nbconvert_exporter": "python",
   "pygments_lexer": "ipython3",
   "version": "3.10.8"
  }
 },
 "nbformat": 4,
 "nbformat_minor": 5
}
