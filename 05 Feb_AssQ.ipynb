{
 "cells": [
  {
   "cell_type": "code",
   "execution_count": 5,
   "id": "007a31ed-ae50-4593-a4eb-6255bd05c87f",
   "metadata": {},
   "outputs": [
    {
     "name": "stdout",
     "output_type": "stream",
     "text": [
      "In this the class is Person and p1 is the object\n",
      "John\n",
      "36\n"
     ]
    }
   ],
   "source": [
    "#Q1. Explain Class and Object with respect to Object-Oriented Programming. Give a suitable example.\n",
    "\n",
    "#Ans.\n",
    "\"\"\"\n",
    "CLASS: \n",
    "A class is a user-defined blueprint or prototype from which objects are created. \n",
    "Classes provide a means of bundling data and functionality together. Creating a new class creates a new type of object, \n",
    "allowing new instances of that type to be made. Each class instance can have attributes attached to it for maintaining its state. \n",
    "Class instances can also have methods (defined by their class) for modifying their state.\n",
    "\n",
    "OBJECT:\n",
    "An Object is an instance of a Class. A class is like a blueprint while an instance is a copy of the class with actual values. \n",
    "It’s not an idea anymore, it’s an actual dog, like a dog of breed pug who’s seven years old. You can have many dogs to create \n",
    "many different instances, but without the class as a guide, you would be lost, not knowing what information is required.\n",
    "\n",
    "An object consists of : \n",
    "State: It is represented by the attributes of an object. It also reflects the properties of an object.\n",
    "Behaviour: It is represented by the methods of an object. It also reflects the response of an object to other objects.\n",
    "Identity: It gives a unique name to an object and enables one object to interact with other objects.\n",
    "\"\"\"\n",
    "print (\"In this the class is Person and p1 is the object\")\n",
    "class Person:\n",
    "    \n",
    "    def __init__(self, name, age):\n",
    "        self.name = name\n",
    "        self.age = age\n",
    "\n",
    "p1 = Person(\"John\", 36)\n",
    "\n",
    "print(p1.name)\n",
    "print(p1.age)"
   ]
  },
  {
   "cell_type": "code",
   "execution_count": null,
   "id": "f787a2e9-fff2-4f01-be2a-ccc0611f45ac",
   "metadata": {},
   "outputs": [],
   "source": [
    "#Q2. Name the four pillars of OOPs.\n",
    "\n",
    "#Ans.\n",
    "\"\"\"\n",
    "The four pillars of object-oriented programming are:\n",
    "\n",
    "1. Abstraction\n",
    "2. Encapsulation\n",
    "3. Inheritance\n",
    "4. Polymorphism\n",
    "\"\"\""
   ]
  },
  {
   "cell_type": "code",
   "execution_count": 22,
   "id": "4845b4a2-b079-4633-ad21-ade0ba0fbea6",
   "metadata": {},
   "outputs": [
    {
     "name": "stdout",
     "output_type": "stream",
     "text": [
      "Name =  rohan\n",
      "Class =  skill\n",
      "Mail_ID =  rohan@gmail.com\n",
      "ID =  1234\n"
     ]
    }
   ],
   "source": [
    "#Q3. Explain why the __init__() function is used. Give a suitable example.\n",
    "\n",
    "#Ans.\n",
    "\"\"\"\n",
    "A constructor of a class in Python is defined using the __init__ method. \n",
    "The python __init__ is a reserved method in Python that behaves like any other member function of the class,\n",
    "except the statements written under its definition are used to initialize the data members of a class in Python,\n",
    "i.e. it basically contains assignment statements. This method is automatically called at the time of class instantiation or object creation. \n",
    "\"\"\"\n",
    "#Example\n",
    "\n",
    "class student:\n",
    "    def __init__(self,name,classs,email,std_id):\n",
    "        self.name = name\n",
    "        self.classs = classs\n",
    "        self.email = email\n",
    "        self.std_id = std_id\n",
    "    \n",
    "    def return_student():\n",
    "        return self.name ,self.classs, self.email,self.std_id\n",
    "        \n",
    "        \n",
    "rohan = student(\"rohan\",'skill',\"rohan@gmail.com\",1234) \n",
    "print(\"Name = \",rohan.name)\n",
    "print(\"Class = \",rohan.classs)\n",
    "print(\"Mail_ID = \",rohan.email)\n",
    "print(\"ID = \",rohan.std_id)"
   ]
  },
  {
   "cell_type": "code",
   "execution_count": 23,
   "id": "1e2bca3d-90cf-4c73-895e-adff958d6fbc",
   "metadata": {},
   "outputs": [
    {
     "name": "stdout",
     "output_type": "stream",
     "text": [
      "Labrador is barking.\n"
     ]
    }
   ],
   "source": [
    "#Q4. Why self is used in OOPs?\n",
    "\n",
    "#Ans.\n",
    "\"\"\"\n",
    "The self variable is used to represent the instance of the class which is often used in object-oriented programming. \n",
    "It works as a reference to the object. Python uses the self parameter to refer to instance attributes and methods of the class.  \n",
    "The reason you need to use self. is because Python does not use the @ syntax to refer to instance attributes.\n",
    "Python decided to do methods in a way that makes the instance to which the method belongs be passed automatically,\n",
    "but not received automatically: the first parameter of methods is the instance the method is called on.\n",
    "\"\"\"\n",
    "#Example\n",
    "\n",
    "class Dog:\n",
    "\n",
    "    def __init__(self, breed):\n",
    "        self.breed = breed\n",
    "\n",
    "    def bark(self):\n",
    "        print(f'{self.breed} is barking.')\n",
    "\n",
    "\n",
    "d = Dog('Labrador')\n",
    "d.bark()"
   ]
  },
  {
   "cell_type": "code",
   "execution_count": 9,
   "id": "659bcec0-e613-42c2-916e-dfe45116788e",
   "metadata": {},
   "outputs": [
    {
     "name": "stdout",
     "output_type": "stream",
     "text": [
      "-----1. Single Inheritance-----\n",
      "\n",
      "This is from Parent class\n"
     ]
    },
    {
     "ename": "NameError",
     "evalue": "name 'exmple_2' is not defined",
     "output_type": "error",
     "traceback": [
      "\u001b[0;31m---------------------------------------------------------------------------\u001b[0m",
      "\u001b[0;31mNameError\u001b[0m                                 Traceback (most recent call last)",
      "Cell \u001b[0;32mIn[9], line 30\u001b[0m\n\u001b[1;32m     28\u001b[0m example_1 \u001b[38;5;241m=\u001b[39m parent\n\u001b[1;32m     29\u001b[0m example_1\u001b[38;5;241m.\u001b[39mparent_function()\n\u001b[0;32m---> 30\u001b[0m \u001b[43mexmple_2\u001b[49m\u001b[38;5;241m.\u001b[39mparent_function()\n\u001b[1;32m     31\u001b[0m exmple_2\u001b[38;5;241m.\u001b[39mchild_funtion()\n",
      "\u001b[0;31mNameError\u001b[0m: name 'exmple_2' is not defined"
     ]
    }
   ],
   "source": [
    "#Q5. What is inheritance? Give an example for each type of inheritance.\n",
    "\n",
    "#Ans.\n",
    "\"\"\"\n",
    "Inheritance is a process of obtaining properties and characteristics(variables and methods) of another class. \n",
    "In this hierarchical order, the class which inherits another class is called subclass or child class, and the other class is the parent class.\n",
    "\n",
    "Inheritance is categorized based on the hierarchy followed and the number of parent classes and subclasses involved.\n",
    "\n",
    "There are five types of inheritances:\n",
    "\n",
    "1. Single Inheritance\n",
    "2. Multiple Inheritance\n",
    "3. Multilevel Inheritance\n",
    "4. Hierarchical Inheritance\n",
    "5. Hybrid Inheritance\n",
    "\"\"\"\n",
    "\n",
    "print(\"-----1. Single Inheritance-----\\n\")\n",
    "class parent:\n",
    "    def parent_function():\n",
    "        print(\"This is from Parent class\")\n",
    "        \n",
    "class child(parent):\n",
    "    def child_funtion():\n",
    "        print(\"This is from Child class\")\n",
    "\n",
    "example_1 = parent\n",
    "example_1.parent_function()\n",
    "exmple_2.parent_function()\n",
    "exmple_2.child_funtion()"
   ]
  },
  {
   "cell_type": "code",
   "execution_count": 2,
   "id": "0f33e539-75c3-4b44-93f1-25bf2c124fff",
   "metadata": {},
   "outputs": [
    {
     "name": "stdout",
     "output_type": "stream",
     "text": [
      "-----2. Multiple Inheritance-----\n",
      "\n",
      "This is from A class\n",
      "This is from B class\n",
      "Here c is inherite both A and B class\n",
      "This is from C class\n",
      "This is from A class\n",
      "This is from B class\n"
     ]
    }
   ],
   "source": [
    "print(\"-----2. Multiple Inheritance-----\\n\")\n",
    "class A:\n",
    "    def A_function():\n",
    "        print(\"This is from A class\")\n",
    "        \n",
    "class B:\n",
    "    def B_function():\n",
    "        print(\"This is from B class\")\n",
    "\n",
    "class C(A,B):\n",
    "    def C_function():\n",
    "        print(\"This is from C class\")\n",
    "\n",
    "\n",
    "\n",
    "example_1 = A\n",
    "example_1.A_function()\n",
    "example_2 = B\n",
    "example_2.B_function()\n",
    "print(\"Here c is inherite both A and B class\")\n",
    "example_3 = C\n",
    "example_3.C_function()\n",
    "example_3.A_function()\n",
    "example_3.B_function()\n"
   ]
  },
  {
   "cell_type": "code",
   "execution_count": 1,
   "id": "b677a213-377d-4914-91ca-0e465edd9663",
   "metadata": {},
   "outputs": [
    {
     "name": "stdout",
     "output_type": "stream",
     "text": [
      "-----3. Multilevel Inheritance-----\n",
      "\n",
      "This is from A class\n",
      "Here B is inherite A class\n",
      "This is from B class\n",
      "This is from A class\n",
      "Here c is inherite B class\n",
      "This is from C class\n",
      "This is from A class\n",
      "This is from B class\n"
     ]
    }
   ],
   "source": [
    "print(\"-----3. Multilevel Inheritance-----\\n\")\n",
    "class A:\n",
    "    def A_function():\n",
    "        print(\"This is from A class\")\n",
    "        \n",
    "class B(A):\n",
    "    def B_function():\n",
    "        print(\"This is from B class\")\n",
    "\n",
    "class C(B):\n",
    "    def C_function():\n",
    "        print(\"This is from C class\")\n",
    "\n",
    "\n",
    "\n",
    "example_1 = A\n",
    "example_1.A_function()\n",
    "print(\"Here B is inherite A class\")\n",
    "example_2 = B\n",
    "example_2.B_function()\n",
    "example_2.A_function()\n",
    "print(\"Here c is inherite B class\")\n",
    "example_3 = C\n",
    "example_3.C_function()\n",
    "example_3.A_function()\n",
    "example_3.B_function()\n"
   ]
  },
  {
   "cell_type": "code",
   "execution_count": 5,
   "id": "ef1451b0-bcc9-40ca-a575-0bc2ebda42a9",
   "metadata": {},
   "outputs": [
    {
     "name": "stdout",
     "output_type": "stream",
     "text": [
      "-----4. Hierarchical Inheritance-----\n",
      "\n",
      "This is from A class\n",
      "Here B is inherite A class\n",
      "This is from B class\n",
      "This is from A class\n",
      "Here c is inherite A class\n",
      "This is from C class\n",
      "This is from A class\n",
      "Here D is inherite A class\n",
      "This is from D class\n",
      "This is from A class\n"
     ]
    }
   ],
   "source": [
    "print(\"-----4. Hierarchical Inheritance-----\\n\")\n",
    "class A:\n",
    "    def A_function():\n",
    "        print(\"This is from A class\")\n",
    "        \n",
    "class B(A):\n",
    "    def B_function():\n",
    "        print(\"This is from B class\")\n",
    "\n",
    "class C(A):\n",
    "    def C_function():\n",
    "        print(\"This is from C class\")\n",
    "\n",
    "class D(A):\n",
    "    def D_function():\n",
    "        print(\"This is from D class\")\n",
    "\n",
    "\n",
    "example_1 = A\n",
    "example_1.A_function()\n",
    "print(\"Here B is inherite A class\")\n",
    "example_2 = B\n",
    "example_2.B_function()\n",
    "example_2.A_function()\n",
    "print(\"Here c is inherite A class\")\n",
    "example_3 = C\n",
    "example_3.C_function()\n",
    "example_3.A_function()\n",
    "print(\"Here D is inherite A class\")\n",
    "example_3 = D\n",
    "example_3.D_function()\n",
    "example_3.A_function()\n",
    "\n"
   ]
  },
  {
   "cell_type": "code",
   "execution_count": 7,
   "id": "6dde52f1-464e-4670-9392-c43b7505f228",
   "metadata": {},
   "outputs": [
    {
     "name": "stdout",
     "output_type": "stream",
     "text": [
      "-----5. Hybrid Inheritance-----\n",
      "\n",
      "This function is in school.\n",
      "This function is in student 1. \n"
     ]
    }
   ],
   "source": [
    "print(\"-----5. Hybrid Inheritance-----\\n\")\n",
    "class School:\n",
    "\tdef func1(self):\n",
    "\t\tprint(\"This function is in school.\")\n",
    "\n",
    "class Student1(School):\n",
    "\tdef func2(self):\n",
    "\t\tprint(\"This function is in student 1. \")\n",
    "\n",
    "class Student2(School):\n",
    "\tdef func3(self):\n",
    "\t\tprint(\"This function is in student 2.\")\n",
    "\n",
    "class Student3(Student1, School):\n",
    "\tdef func4(self):\n",
    "\t\tprint(\"This function is in student 3.\")\n",
    "\n",
    "rahul = Student3()\n",
    "rahul.func1()\n",
    "rahul.func2()\n",
    "\n"
   ]
  },
  {
   "cell_type": "code",
   "execution_count": null,
   "id": "f1310963-ec8b-4a65-add3-c3730307d3d0",
   "metadata": {},
   "outputs": [],
   "source": []
  }
 ],
 "metadata": {
  "kernelspec": {
   "display_name": "Python 3 (ipykernel)",
   "language": "python",
   "name": "python3"
  },
  "language_info": {
   "codemirror_mode": {
    "name": "ipython",
    "version": 3
   },
   "file_extension": ".py",
   "mimetype": "text/x-python",
   "name": "python",
   "nbconvert_exporter": "python",
   "pygments_lexer": "ipython3",
   "version": "3.10.8"
  }
 },
 "nbformat": 4,
 "nbformat_minor": 5
}
