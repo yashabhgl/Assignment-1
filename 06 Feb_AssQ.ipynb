{
 "cells": [
  {
   "cell_type": "code",
   "execution_count": 2,
   "id": "979e31cc-08cd-4a03-87d2-7af073887f27",
   "metadata": {},
   "outputs": [],
   "source": [
    "\"\"\"\n",
    "Q1. Create a function which will take a list as an argument and return the product of all the numbers\n",
    "after creating a flat list.\n",
    "Use the below-given list as an argument for your function.\n",
    "list1 = [1,2,3,4, [44,55,66, True], False, (34,56,78,89,34), {1,2,3,3,2,1}, {1:34, \"key2\": [55, 67, 78, 89], 4: (45,\n",
    "22, 61, 34)}, [56, 'data science'], 'Machine Learning']\n",
    "Note: you must extract numeric keys and values of the dictionary also.\n",
    "\"\"\"\n",
    "\n",
    "#Ans. Below\n",
    "\n",
    "\n",
    "    "
   ]
  },
  {
   "cell_type": "code",
   "execution_count": 80,
   "id": "2c2a337c-ac2e-431b-927d-2363066ad273",
   "metadata": {},
   "outputs": [
    {
     "name": "stdout",
     "output_type": "stream",
     "text": [
      "4134711838987085478833841242112000\n"
     ]
    }
   ],
   "source": [
    "list1 = [1,2,3,4, [44,55,66, True], False, (34,56,78,89,34), {1,2,3,3,2,1}, {1:34, \"key2\": [55, 67, 78, 89], 4: (45,22, 61, 34)}, [56, 'data science'], 'Machine Learning']\n",
    "global numeric\n",
    "numeric = []\n",
    "\n",
    "def for_list(f_list):\n",
    "    for i in f_list:\n",
    "        if type(i) == int:\n",
    "            numeric.append(i)\n",
    "        elif type(i) == dict:\n",
    "            for_dict(i)\n",
    "        elif type(i) == tuple:\n",
    "            for_tuple(i)\n",
    "        elif type(i) == set:\n",
    "            for_set(i)\n",
    "        elif type(i) == list:\n",
    "            for_list(i)\n",
    "\n",
    "\n",
    "def for_tuple(f_tuple):\n",
    "    for i in f_tuple:\n",
    "        if type(i) == int:\n",
    "            numeric.append(i)\n",
    "        elif type(i) == dict:\n",
    "            for_dict(i)\n",
    "        elif type(i) == tuple:\n",
    "            for_tuple(i)\n",
    "        elif type(i) == set:\n",
    "            for_set(i)\n",
    "        elif type(i) == list:\n",
    "            for_list(i)\n",
    "\n",
    "\n",
    "def for_set(f_set):\n",
    "    for i in f_set:\n",
    "        if type(i) == int:\n",
    "            numeric.append(i)\n",
    "        elif type(i) == dict:\n",
    "            for_dict(i)\n",
    "        elif type(i) == tuple:\n",
    "            for_tuple(i)\n",
    "        elif type(i) == set:\n",
    "            for_set(i)\n",
    "        elif type(i) == list:\n",
    "            for_list(i)\n",
    "\n",
    "\n",
    "def for_dict(f_dict):\n",
    "    for i in f_dict.keys():\n",
    "        if type(i) == int:\n",
    "            numeric.append(i)\n",
    "        elif type(i) == dict:\n",
    "            for_dict(i)\n",
    "        elif type(i) == tuple:\n",
    "            for_tuple(i)\n",
    "        elif type(i) == set:\n",
    "            for_set(i)\n",
    "        elif type(i) == list:\n",
    "            for_list(i)\n",
    "\n",
    "    for i in f_dict.values():\n",
    "        if type(i) == int:\n",
    "            numeric.append(i)\n",
    "        elif type(i) == dict:\n",
    "            for_dict(i)\n",
    "        elif type(i) == tuple:\n",
    "            for_tuple(i)\n",
    "        elif type(i) == set:\n",
    "            for_set(i)\n",
    "        elif type(i) == list:\n",
    "            for_list(i)\n",
    "\n",
    "\n",
    "\n",
    "\n",
    "\n",
    "        \n",
    "for_list(list1)\n",
    "prod = 1\n",
    "for i in numeric:\n",
    "    prod = prod * i\n",
    "    \n",
    "print(prod)"
   ]
  },
  {
   "cell_type": "code",
   "execution_count": null,
   "id": "4a906b23-90d0-44ca-8d5d-e3e9443b6ce9",
   "metadata": {},
   "outputs": [],
   "source": [
    "\"\"\"\n",
    "Q2. Write a python program for encrypting a message sent to you by your friend. The logic of encryption\n",
    "should be such that, for a the output should be z. For b, the output should be y. For c, the output should\n",
    "be x respectively. Also, the whitespace should be replaced with a dollar sign. Keep the punctuation\n",
    "marks unchanged.\n",
    "Input Sentence: I want to become a Data Scientist.\n",
    "Encrypt the above input sentence using the program you just created.\n",
    "Note: Convert the given input sentence into lowercase before encrypting. The final output should be\n",
    "lowercase.\n",
    "\"\"\"\n"
   ]
  },
  {
   "cell_type": "code",
   "execution_count": 105,
   "id": "29ea83a9-2bb8-454d-b982-d116c1439484",
   "metadata": {},
   "outputs": [
    {
     "name": "stdout",
     "output_type": "stream",
     "text": [
      "r$dzmg$gl$yvxlnv$z$wzgz$hxrvmgrhg.\n"
     ]
    }
   ],
   "source": [
    "l = \"I want to become a Data Scientist.\"\n",
    "l1 = l.lower()\n",
    "encrypt = []\n",
    "for i in l1:\n",
    "    if ord(i)>=97 and ord(i)<=122:\n",
    "        temp = ord(i) - 97\n",
    "        temp = 122 - temp\n",
    "        encrypt.append(chr(temp))\n",
    "    elif i == \" \":\n",
    "        encrypt.append('$')\n",
    "    else:\n",
    "        encrypt.append(i)\n",
    "print(''.join(encrypt))"
   ]
  },
  {
   "cell_type": "code",
   "execution_count": null,
   "id": "c1822115-4415-4c5a-b312-4e21075509a0",
   "metadata": {},
   "outputs": [],
   "source": []
  }
 ],
 "metadata": {
  "kernelspec": {
   "display_name": "Python 3 (ipykernel)",
   "language": "python",
   "name": "python3"
  },
  "language_info": {
   "codemirror_mode": {
    "name": "ipython",
    "version": 3
   },
   "file_extension": ".py",
   "mimetype": "text/x-python",
   "name": "python",
   "nbconvert_exporter": "python",
   "pygments_lexer": "ipython3",
   "version": "3.10.8"
  }
 },
 "nbformat": 4,
 "nbformat_minor": 5
}
