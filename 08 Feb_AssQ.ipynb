{
 "cells": [
  {
   "cell_type": "code",
   "execution_count": 8,
   "id": "7ffa0a8f-6046-49e3-9490-c565858da647",
   "metadata": {},
   "outputs": [
    {
     "name": "stdout",
     "output_type": "stream",
     "text": [
      "This is test1 Area\n"
     ]
    }
   ],
   "source": [
    "#Q1. What is Abstraction in OOps? Explain with an example.\n",
    "\n",
    "#Ans\n",
    "\n",
    "\"\"\"\n",
    "An abstract class can be considered as a blueprint for other classes. \n",
    "It allows you to create a set of methods that must be created within any child classes built from the abstract class.\n",
    "A class which contains one or more abstract methods is called an abstract class. \n",
    "An abstract method is a method that has a declaration but does not have an implementation.\n",
    "While we are designing large functional units we use an abstract class. \n",
    "When we want to provide a common interface for different implementations of a component, we use an abstract class. \n",
    "\n",
    "Abstraction is a concept in object-oriented programming that refers to the process of hiding\n",
    "the complexity of an object and exposing only the necessary details to the user. In other\n",
    "words, abstraction is the act of creating a simplified version of an object, that presents only\n",
    "the relevant information to the user, and hides the implementation details.\n",
    "\"\"\"\n",
    "\n",
    "#Example\n",
    "\n",
    "from abc import ABC, abstractmethod\n",
    "\n",
    "\n",
    "class shape(ABC):\n",
    "    @abstractmethod\n",
    "    def area(self):\n",
    "        pass\n",
    "    \n",
    "class square(shape):\n",
    "    def area(self):\n",
    "        print(\"This is test1 Area\")\n",
    "        \n",
    "class rect(shape):\n",
    "    def area(self):\n",
    "        print(\"this is test2 area\")\n",
    "        \n",
    "pw = square()\n",
    "pw.area()"
   ]
  },
  {
   "cell_type": "code",
   "execution_count": 20,
   "id": "92a630a5-8ee5-4007-a7cc-e798dd86dc94",
   "metadata": {},
   "outputs": [
    {
     "ename": "TypeError",
     "evalue": "car_available.avarage() takes 1 positional argument but 2 were given",
     "output_type": "error",
     "traceback": [
      "\u001b[0;31m---------------------------------------------------------------------------\u001b[0m",
      "\u001b[0;31mTypeError\u001b[0m                                 Traceback (most recent call last)",
      "Cell \u001b[0;32mIn[20], line 32\u001b[0m\n\u001b[1;32m     29\u001b[0m         \u001b[38;5;28mprint\u001b[39m(\u001b[38;5;124m\"\u001b[39m\u001b[38;5;124mCar is available\u001b[39m\u001b[38;5;124m\"\u001b[39m)\n\u001b[1;32m     31\u001b[0m c \u001b[38;5;241m=\u001b[39m car_available(\u001b[38;5;124m'\u001b[39m\u001b[38;5;124mhyundai\u001b[39m\u001b[38;5;124m'\u001b[39m,\u001b[38;5;124m'\u001b[39m\u001b[38;5;124mi20\u001b[39m\u001b[38;5;124m'\u001b[39m,\u001b[38;5;241m2020\u001b[39m,\u001b[38;5;241m20000\u001b[39m)\n\u001b[0;32m---> 32\u001b[0m \u001b[43mc\u001b[49m\u001b[38;5;241;43m.\u001b[39;49m\u001b[43mavarage\u001b[49m\u001b[43m(\u001b[49m\u001b[38;5;241;43m21\u001b[39;49m\u001b[43m)\u001b[49m\n\u001b[1;32m     36\u001b[0m \u001b[38;5;66;03m#Example of Encapsulation\u001b[39;00m\n\u001b[1;32m     37\u001b[0m \u001b[38;5;28;01mclass\u001b[39;00m \u001b[38;5;21;01mBase\u001b[39;00m:\n",
      "\u001b[0;31mTypeError\u001b[0m: car_available.avarage() takes 1 positional argument but 2 were given"
     ]
    }
   ],
   "source": [
    "#Q2. Differentiate between Abstraction and Encapsulation. Explain with an example.\n",
    "\n",
    "#Ans.\n",
    "\"\"\"\n",
    "Abstraction shows only useful data by providing the most necessary details, whereas Encapsulation wraps code and data for necessary information.\n",
    "Abstraction is focused mainly on what should be done, while Encapsulation is focused on how it should be done.\n",
    "Abstraction hides complexity by giving you a more abstract picture, while Encapsulation hides internal work so that you can change it later.\n",
    "Abstraction helps you to partition the program into many independent portions,whereas Encapsulation is easy to change with new requirements.\n",
    "Comparing Encapsulation vs Abstraction, Abstraction solves problems at the design level while Encapsulation solves problems the implementation level.\n",
    "Abstraction hides the irrelevant details found in the code, whereas Encapsulation helps developers to organize the entire code easily.\n",
    "\"\"\"\n",
    "\n",
    "from abc import ABC, abstractmethod\n",
    "\n",
    "class used_car(ABC):\n",
    "    def __init__(self,company,model,year,kms):\n",
    "        self.__company=company\n",
    "        self.__model= model\n",
    "        self.__year= year\n",
    "        self.__kms= kms\n",
    "    \n",
    "    @abstractmethod\n",
    "    def avarage(avg):\n",
    "        if avg>20:\n",
    "            print(\"car is fine\")\n",
    "            \n",
    "class car_available(used_car):\n",
    "    def avarage(self):\n",
    "        print(\"Car is available\")\n",
    "\n",
    "c = car_available('hyundai','i20',2020,20000)\n",
    "c.avarage(21)\n",
    "\n",
    "\n",
    "    \n",
    "#Example of Encapsulation\n",
    "class Base:\n",
    "    def __init__(self):\n",
    "        self.a = \"This is a\"\n",
    "        self.__c = \"This is private C\"\n",
    "\n",
    "\n",
    "class Derived(Base):\n",
    "    def __init__(self):\n",
    " \n",
    "        Base.__init__(self)\n",
    "        print(\"Calling private member of base class: \")\n",
    "        print(self.__c)\n",
    " \n",
    " \n",
    "obj1 = Base()\n",
    "print(obj1.a)"
   ]
  },
  {
   "cell_type": "code",
   "execution_count": null,
   "id": "e09f1339-d116-4024-8eff-ee017d6dfbe6",
   "metadata": {},
   "outputs": [],
   "source": [
    "#Q3. What is abc module in python? Why is it used?\n",
    "\n",
    "#Ans\n",
    "\"\"\"\n",
    "The main goal of the abstract base class is to provide a standardized way to test whether an object adheres to a given specification.\n",
    "It can also prevent any attempt to instantiate a subclass that doesn’t override a particular method in the superclass. \n",
    "And finally, using an abstract class, a class can derive identity from another class without any object inheritance.\n",
    "Python has a module called abc (abstract base class) that offers the necessary tools for crafting an abstract base class. \n",
    "First and foremost, you should understand the ABCMeta metaclass provided by the abstract base class. \n",
    "The rule is every abstract class must use ABCMeta metaclass.\n",
    "\n",
    "ABCMeta metaclass provides a method called register method that can be invoked by its instance. \n",
    "By using this register method, any abstract base class can become an ancestor of any arbitrary concrete class. \n",
    "Let’s understand this process by considering an example of an abstract base class that registers itself as an ancestor of dict.\n",
    "\n",
    "Why use Abstract Base Classes : \n",
    "By defining an abstract base class, you can define a common Application Program Interface(API) for a set of subclasses. \n",
    "This capability is especially useful in situations where a third-party is going to provide implementations, such as with plugins,\n",
    "but can also help you when working in a large team or with a large code-base where keeping all classes in your mind is difficult or \n",
    "not possible. \n",
    "\"\"\""
   ]
  },
  {
   "cell_type": "code",
   "execution_count": 5,
   "id": "6faa60a9-54d9-4e56-a18e-88a63887d45b",
   "metadata": {},
   "outputs": [],
   "source": [
    "#Q4. How can we achieve data abstraction?\n",
    "\n",
    "#Ans\n",
    "\"\"\"\n",
    "An abstract method is a method that is declared, but does not contain implementation. \n",
    "An abstract method in a base class identifies the functionality that should be implemented by all its subclasses. \n",
    "However, since the implementation of an abstract method would differ from one subclass to another, \n",
    "often the method body comprises just a pass statement. Every subclass of the base class will ride this method with its implementation. \n",
    "A class containing abstract methods is called abstract class.Python provides the abc module to use the abstraction in the Python program, \n",
    "\n",
    "syntax as:\n",
    "\"\"\"\n",
    "from abc import ABC   \n",
    "class ClassName(ABC):\n",
    "    pass\n"
   ]
  },
  {
   "cell_type": "code",
   "execution_count": 8,
   "id": "f5057d4c-b900-4d30-866c-3c5210c1654b",
   "metadata": {},
   "outputs": [
    {
     "name": "stdout",
     "output_type": "stream",
     "text": [
      "===========ERROR OCCURRED===============\n",
      "Can't instantiate abstract class Shape with abstract method draw\n"
     ]
    }
   ],
   "source": [
    "#Q5. Can we create an instance of an abstract class? Explain your answer.\n",
    "\n",
    "#Ans.\n",
    "\n",
    "\"\"\"\n",
    "Abstract classes are not complete, as they may have some methods that are not defined. \n",
    "So we cannot create an instance or object of an abstract class in Python. If we try to instantiate the abstract class, it raises an error.\n",
    "\"\"\"\n",
    "\n",
    "from abc import ABC, abstractmethod\n",
    " \n",
    "class Shape(ABC):\n",
    "    def __init__(self, shape_name):\n",
    "        self.shape_name = shape_name\n",
    "    \n",
    "    @abstractmethod\n",
    "    def draw(self):\n",
    "        pass\n",
    "\n",
    "    \n",
    "try :\n",
    "    shape = Shape()\n",
    "except Exception as error:\n",
    "    print(\"===========ERROR OCCURRED===============\")\n",
    "    print(error)"
   ]
  },
  {
   "cell_type": "code",
   "execution_count": null,
   "id": "1ebdc9b7-734b-4857-9296-a60741729f92",
   "metadata": {},
   "outputs": [],
   "source": []
  }
 ],
 "metadata": {
  "kernelspec": {
   "display_name": "Python 3 (ipykernel)",
   "language": "python",
   "name": "python3"
  },
  "language_info": {
   "codemirror_mode": {
    "name": "ipython",
    "version": 3
   },
   "file_extension": ".py",
   "mimetype": "text/x-python",
   "name": "python",
   "nbconvert_exporter": "python",
   "pygments_lexer": "ipython3",
   "version": "3.10.8"
  }
 },
 "nbformat": 4,
 "nbformat_minor": 5
}
