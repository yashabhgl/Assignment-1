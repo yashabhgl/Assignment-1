{
 "cells": [
  {
   "cell_type": "code",
   "execution_count": 6,
   "id": "d086affe-205e-41ec-8476-e4db958575c5",
   "metadata": {},
   "outputs": [
    {
     "name": "stdout",
     "output_type": "stream",
     "text": [
      "-----For LOOP-----\n",
      "0\n",
      "1\n",
      "2\n",
      "3\n",
      "4\n",
      "5\n",
      "6\n",
      "7\n",
      "8\n",
      "9\n",
      "\n",
      "-----WHILE LOOP-----\n",
      "1\n",
      "2\n",
      "3\n",
      "4\n",
      "5\n",
      "6\n",
      "7\n",
      "8\n",
      "9\n"
     ]
    }
   ],
   "source": [
    "# Q1. Explain with an example each when to use a for loop and a while loop.\n",
    "\n",
    "#Ans\n",
    "\n",
    "print(\"-----For LOOP-----\")\n",
    "for l in range(10):\n",
    "    print(l)\n",
    "    \n",
    "    \n",
    "print(\"\\n-----WHILE LOOP-----\")\n",
    "i=1\n",
    "while True:\n",
    "    if(i>=10):\n",
    "        break\n",
    "    print(i)\n",
    "    i+=1  "
   ]
  },
  {
   "cell_type": "code",
   "execution_count": 10,
   "id": "1f1e942a-28fc-4437-baf0-40357c841d70",
   "metadata": {},
   "outputs": [
    {
     "name": "stdout",
     "output_type": "stream",
     "text": [
      "----with while loop----\n",
      "\n",
      "sum =  55\n",
      "product =  3628800\n",
      "\n",
      "----with For loop----\n",
      "\n",
      "sum =  55\n",
      "product =  3628800\n"
     ]
    }
   ],
   "source": [
    "# Q2.  Write a python program to print the sum and product of the first 10 natural numbers using for  and while loop. \n",
    "\n",
    "# Ans.\n",
    "\n",
    "print(\"----with while loop----\\n\")\n",
    "i=1\n",
    "sum = 0\n",
    "product = 1\n",
    "while i <=10:\n",
    "    sum = sum + i\n",
    "    product = product * i\n",
    "    i+=1\n",
    "print (\"sum = \",sum)\n",
    "print(\"product = \" , product)\n",
    "\n",
    "\n",
    "print(\"\\n----with For loop----\\n\")\n",
    "sum = 0\n",
    "product = 1\n",
    "for i in range(1,11):\n",
    "    sum = sum + i\n",
    "    product = product * i\n",
    "print (\"sum = \",sum)\n",
    "print(\"product = \" , product)\n"
   ]
  },
  {
   "cell_type": "code",
   "execution_count": 18,
   "id": "4713dc3c-0df4-4a58-81d7-2316b4d1c06f",
   "metadata": {},
   "outputs": [
    {
     "name": "stdin",
     "output_type": "stream",
     "text": [
      "Enter the Unit consumed =  310\n"
     ]
    },
    {
     "name": "stdout",
     "output_type": "stream",
     "text": [
      "Your total electricity bill =  2250.0\n"
     ]
    }
   ],
   "source": [
    "# Q3. Create a python program to compute the electricity bill for a household. \n",
    "\"\"\"\n",
    "The per-unit charges in rupees are as follows: For the first 100 units, the user will be charged Rs. 4.5 per  unit,\n",
    "for the next 100 units, the user will be charged Rs. 6 per unit, and for the next 100 units, the user will  be charged \n",
    "Rs. 10 per unit, After 300 units and above the user will be charged Rs. 20 per unit. \n",
    "You are required to take the units of electricity consumed in a month from the user as input. \n",
    "Your program must pass this test case: when the unit of electricity consumed by the user in a month is  310,\n",
    "the total electricity bill should be 2250. \n",
    "\"\"\"\n",
    "\n",
    "\n",
    "unit = int(input(\"Enter the Unit consumed = \")) \n",
    "temp = 0\n",
    "bill = 0\n",
    "if (unit <= 100):\n",
    "    bill = 4.5 * unit\n",
    "elif (unit <= 200 and unit>100):\n",
    "    bill = 4.5 * 100 \n",
    "    bill = bill + (unit-100)*6\n",
    "elif ( unit <=300 and unit>200):\n",
    "    bill = 4.5 * 100 + 100 * 6\n",
    "    bill = bill + (unit - 200)*10\n",
    "else :\n",
    "    bill = 4.5*100 + 100*6 + 100*10\n",
    "    bill = bill + (unit-300)*20\n",
    "\n",
    "print(\"Your total electricity bill = \", bill)\n",
    "    "
   ]
  },
  {
   "cell_type": "code",
   "execution_count": 56,
   "id": "366454bf-4fb8-43d6-85e4-c9ce59e45418",
   "metadata": {},
   "outputs": [
    {
     "name": "stdout",
     "output_type": "stream",
     "text": [
      "-----With For loop-----\n",
      "\n",
      "[8, 64, 125, 216, 512, 1000, 1728, 2744, 3375, 4096, 5832, 8000, 10648, 13824, 15625, 17576, 21952, 27000, 32768, 39304, 42875, 46656, 54872, 64000, 74088, 85184, 91125, 97336, 110592, 125000, 140608, 157464, 166375, 175616, 195112, 216000, 238328, 262144, 274625, 287496, 314432, 343000, 373248, 405224, 421875, 438976, 474552, 512000, 551368, 592704, 614125, 636056, 681472, 729000, 778688, 830584, 857375, 884736, 941192, 1000000]\n",
      "\n",
      "-----With While loop-----\n",
      "\n",
      "[8, 64, 125, 216, 512, 1000, 1728, 2744, 3375, 4096, 5832, 8000, 10648, 13824, 15625, 17576, 21952, 27000, 32768, 39304, 42875, 46656, 54872, 64000, 74088, 85184, 91125, 97336, 110592, 125000, 140608, 157464, 166375, 175616, 195112, 216000, 238328, 262144, 274625, 287496, 314432, 343000, 373248, 405224, 421875, 438976, 474552, 512000, 551368, 592704, 614125, 636056, 681472, 729000, 778688, 830584, 857375, 884736, 941192, 1000000]\n"
     ]
    }
   ],
   "source": [
    "#Q4. Create a list of numbers from 1 to 100. Use for loop and while loop to calculate the cube of each  number \n",
    "#    and if the cube of that number is divisible by 4 or 5 then append that number in a list and print  that list. \n",
    "\n",
    "#Ans. \n",
    "\n",
    "print(\"-----With For loop-----\\n\")\n",
    "c_list = []\n",
    "list = []\n",
    "n = 0\n",
    "for i in range(1,101):\n",
    "    list.append(i)\n",
    "    n = i**3\n",
    "    if (n%4==0 or n%5==0):\n",
    "        c_list.append(n)\n",
    "print(c_list)\n",
    "\n",
    "\n",
    "print(\"\\n-----With While loop-----\\n\")\n",
    "w_list = []\n",
    "list = []\n",
    "i = 1\n",
    "t = 0\n",
    "while i<=100:\n",
    "    list.append(i)\n",
    "    t = i**3\n",
    "    if (t%4==0 or t%5==0):\n",
    "        w_list.append(t)\n",
    "    i+=1\n",
    "print(w_list)\n",
    "\n"
   ]
  },
  {
   "cell_type": "code",
   "execution_count": 61,
   "id": "4851ae88-9006-4865-9c17-a4611d562bf5",
   "metadata": {},
   "outputs": [
    {
     "name": "stdout",
     "output_type": "stream",
     "text": [
      "12\n"
     ]
    }
   ],
   "source": [
    "#Q5. Write a program to filter count vowels in the below-given string.\n",
    "#    string = \"I want to become a data scientist\"\n",
    "\n",
    "# Ans.\n",
    "\n",
    "string = \"I want to become a data scientist\"\n",
    "vowel = ('a','e','i','o','u')\n",
    "count = 0\n",
    "string=string.lower()\n",
    "for i in string:\n",
    "    for j in vowel:\n",
    "        if (i==j):\n",
    "            count+=1\n",
    "print(count)\n",
    "            \n"
   ]
  },
  {
   "cell_type": "code",
   "execution_count": null,
   "id": "ba5c8edc-c15b-4d14-b37c-6c361f28e1ce",
   "metadata": {},
   "outputs": [],
   "source": []
  }
 ],
 "metadata": {
  "kernelspec": {
   "display_name": "Python 3 (ipykernel)",
   "language": "python",
   "name": "python3"
  },
  "language_info": {
   "codemirror_mode": {
    "name": "ipython",
    "version": 3
   },
   "file_extension": ".py",
   "mimetype": "text/x-python",
   "name": "python",
   "nbconvert_exporter": "python",
   "pygments_lexer": "ipython3",
   "version": "3.10.8"
  }
 },
 "nbformat": 4,
 "nbformat_minor": 5
}
