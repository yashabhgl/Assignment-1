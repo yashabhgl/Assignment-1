{
 "cells": [
  {
   "cell_type": "code",
   "execution_count": 3,
   "id": "3ec59a91-33ed-4326-b568-a52a971dbc32",
   "metadata": {},
   "outputs": [
    {
     "name": "stdin",
     "output_type": "stream",
     "text": [
      "Enter Password =  !@#1asYY2a\n"
     ]
    },
    {
     "name": "stdout",
     "output_type": "stream",
     "text": [
      "Valid Password\n"
     ]
    }
   ],
   "source": [
    "\"\"\"\n",
    "Q1. You are writing code for a company. The requirement of the company is that you create a python\n",
    "function that will check whether the password entered by the user is correct or not. The function should\n",
    "take the password as input and return the string “Valid Password” if the entered password follows the\n",
    "below-given password guidelines else it should return “Invalid Password”.\n",
    "Note: 1. The Password should contain at least two uppercase letters and at least two lowercase letters.\n",
    "2. The Password should contain at least a number and three special characters.\n",
    "3. The length of the password should be 10 characters long.\n",
    "\"\"\"\n",
    "\n",
    "\n",
    "#Ans.\n",
    "\n",
    "\n",
    "password = input(\"Enter Password = \")\n",
    "c_upper = [i  for i in password if i.isupper() == True]    \n",
    "c_lower = [i  for i in password if i.islower() == True] \n",
    "c_number = [i  for i in password if i.isdigit() == True]   \n",
    "c_special = [i  for i in password if i.isalnum() != True] \n",
    "if( len(password)==10 and len(c_upper) >= 2 and len(c_lower) >= 2 and len(c_number) >= 1 and len(c_special) >= 3):\n",
    "    print (\"Valid Password\")\n",
    "else:\n",
    "    print (\"Invalid Password\")"
   ]
  },
  {
   "cell_type": "code",
   "execution_count": 26,
   "id": "f0865ba3-0d4c-4011-8adb-56de28a086a8",
   "metadata": {},
   "outputs": [
    {
     "name": "stdout",
     "output_type": "stream",
     "text": [
      "Check if the string starts with a particular letter\n",
      "True\n"
     ]
    }
   ],
   "source": [
    "\"\"\"\n",
    "Q2. Solve the below-given questions using at least one of the following:\n",
    "1. Lambda functioJ\n",
    "2. Filter functioJ\n",
    "3. Zap functioJ\n",
    "4. List ComprehensioI\n",
    "B Check if the string starts with a particular letterY\n",
    "B Check if the string is numericY\n",
    "B Sort a list of tuples having fruit names and their quantity. [(\"mango\",99),(\"orange\",80), (\"grapes\", 1000)-\n",
    "B Find the squares of numbers from 1 to 10Y\n",
    "B Find the cube root of numbers from 1 to 10Y\n",
    "B Check if a given number is evenY\n",
    "B Filter odd numbers from the given list.\n",
    "[1,2,3,4,5,6,7,8,9,10-\n",
    "B Sort a list of integers into positive and negative integers lists.\n",
    "[1,2,3,4,5,6,-1,-2,-3,-4,-5,0]\n",
    "\"\"\"\n",
    "\n",
    "#Ans. \n",
    "#01\n",
    "print(\"Check if the string starts with a particular letter\")\n",
    "\n",
    "result = (lambda x: \"True\" if x[0] == 'Y' or x[0] == 'y' else 'false')\n",
    "print(result('Yashabh Goyal'))"
   ]
  },
  {
   "cell_type": "code",
   "execution_count": 33,
   "id": "ab1324ca-2ff9-4621-8a65-518b91c1acdf",
   "metadata": {},
   "outputs": [
    {
     "name": "stdout",
     "output_type": "stream",
     "text": [
      "Check if the string is numeric\n",
      "True\n"
     ]
    }
   ],
   "source": [
    "#02\n",
    "print(\"Check if the string is numeric\")\n",
    "result = (lambda x: \"True\" if x.isnumeric()==True else 'false')\n",
    "print(result('123'))"
   ]
  },
  {
   "cell_type": "code",
   "execution_count": 51,
   "id": "95a0c955-7372-4f4e-bb3b-2241b42924b0",
   "metadata": {},
   "outputs": [
    {
     "name": "stdout",
     "output_type": "stream",
     "text": [
      "Sort a list of tuples having fruit names and their quantity. [(\"mango\",99),(\"orange\",80), (\"grapes\", 1000)]\n"
     ]
    },
    {
     "data": {
      "text/plain": [
       "[('orange', 80), ('mango', 99), ('grapes', 1000)]"
      ]
     },
     "execution_count": 51,
     "metadata": {},
     "output_type": "execute_result"
    }
   ],
   "source": [
    "#03\n",
    "print('Sort a list of tuples having fruit names and their quantity. [(\"mango\",99),(\"orange\",80), (\"grapes\", 1000)]')\n",
    "list1 = [(\"mango\",99),(\"orange\",80), (\"grapes\", 1000)]\n",
    "sorted(list1,key = lambda x: x[1]) "
   ]
  },
  {
   "cell_type": "code",
   "execution_count": 62,
   "id": "ace876ae-13bf-4f23-a689-b1b2b0ba6517",
   "metadata": {},
   "outputs": [
    {
     "name": "stdout",
     "output_type": "stream",
     "text": [
      "Find the squares of numbers from 1 to 10\n",
      "[1, 4, 9, 16, 25, 36, 49, 64, 81, 100]\n"
     ]
    }
   ],
   "source": [
    "#04\n",
    "print(\"Find the squares of numbers from 1 to 10\")\n",
    "print([i**2 for i in range(1,11)])\n",
    "         "
   ]
  },
  {
   "cell_type": "code",
   "execution_count": 63,
   "id": "cf26fb16-b841-460c-9661-bfd60c725f0f",
   "metadata": {},
   "outputs": [
    {
     "name": "stdout",
     "output_type": "stream",
     "text": [
      "Find the cube root of numbers from 1 to 10\n",
      "[1.0, 1.2599210498948732, 1.4422495703074083, 1.5874010519681994, 1.7099759466766968, 1.8171205928321397, 1.912931182772389, 2.0, 2.080083823051904, 2.154434690031884]\n"
     ]
    }
   ],
   "source": [
    "#05\n",
    "print(\"Find the cube root of numbers from 1 to 10\")\n",
    "print([i**(1/3) for i in range(1,11)])"
   ]
  },
  {
   "cell_type": "code",
   "execution_count": 3,
   "id": "22b75d94-8405-46e1-b655-d7d4b74a0635",
   "metadata": {},
   "outputs": [
    {
     "name": "stdout",
     "output_type": "stream",
     "text": [
      "Check if a given number is even\n"
     ]
    },
    {
     "name": "stdin",
     "output_type": "stream",
     "text": [
      "Number =  66\n"
     ]
    },
    {
     "name": "stdout",
     "output_type": "stream",
     "text": [
      "Even\n"
     ]
    }
   ],
   "source": [
    "#06\n",
    "print(\"Check if a given number is even\")\n",
    "number = int(input(\"Number = \"))\n",
    "print(\"Even\" if number%2==0 else \"Not Even\")"
   ]
  },
  {
   "cell_type": "code",
   "execution_count": 6,
   "id": "7912cd88-7301-4176-b067-90be37a9cda2",
   "metadata": {},
   "outputs": [
    {
     "name": "stdout",
     "output_type": "stream",
     "text": [
      "Filter odd numbers from the given list.[1,2,3,4,5,6,7,8,9,10]\n",
      "[1, 3, 5, 7, 9]\n"
     ]
    }
   ],
   "source": [
    "#07\n",
    "print(\"Filter odd numbers from the given list.[1,2,3,4,5,6,7,8,9,10]\")\n",
    "ls = [1,2,3,4,5,6,7,8,9,10]\n",
    "print(list(filter(lambda x:x%2!=0,ls)))"
   ]
  },
  {
   "cell_type": "code",
   "execution_count": 22,
   "id": "3af6c81d-a605-4133-8efa-fc468f8e1c47",
   "metadata": {},
   "outputs": [
    {
     "name": "stdout",
     "output_type": "stream",
     "text": [
      "Sort a list of integers into positive and negative integers lists.[1,2,3,4,5,6,-1,-2,-3,-4,-5,0]\n",
      "Positive Numbers =  [0, 1, 2, 3, 4, 5, 6]\n",
      "Negative Numbers =  [-5, -4, -3, -2, -1]\n"
     ]
    }
   ],
   "source": [
    "#08\n",
    "print(\"Sort a list of integers into positive and negative integers lists.[1,2,3,4,5,6,-1,-2,-3,-4,-5,0]\")\n",
    "ls = [1,2,3,4,5,6,-1,-2,-3,-4,-5,0]\n",
    "l_positive = list(filter(lambda x: x>=0,ls))\n",
    "l_negative = list(filter(lambda x: x<0,ls))\n",
    "l_positive.sort()\n",
    "l_negative.sort()\n",
    "print(\"Positive Numbers = \",l_positive)\n",
    "print(\"Negative Numbers = \",l_negative)"
   ]
  },
  {
   "cell_type": "code",
   "execution_count": null,
   "id": "13c31fcf-e831-4f50-b873-7b2f182e1f86",
   "metadata": {},
   "outputs": [],
   "source": []
  }
 ],
 "metadata": {
  "kernelspec": {
   "display_name": "Python 3 (ipykernel)",
   "language": "python",
   "name": "python3"
  },
  "language_info": {
   "codemirror_mode": {
    "name": "ipython",
    "version": 3
   },
   "file_extension": ".py",
   "mimetype": "text/x-python",
   "name": "python",
   "nbconvert_exporter": "python",
   "pygments_lexer": "ipython3",
   "version": "3.10.8"
  }
 },
 "nbformat": 4,
 "nbformat_minor": 5
}
