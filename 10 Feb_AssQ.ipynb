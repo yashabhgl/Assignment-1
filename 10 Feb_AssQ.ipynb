{
 "cells": [
  {
   "cell_type": "code",
   "execution_count": null,
   "id": "763ad00b-8804-4d61-8955-38bd332f363d",
   "metadata": {},
   "outputs": [],
   "source": [
    "# Q1. Which function is used to open a file? What are the different modes of opening a file? Explain each mode of file opening.\n",
    "\n",
    "#Ans.\n",
    "\n",
    "\"\"\"\n",
    "open() method is used to open a file\n",
    "\n",
    "example :\n",
    "\"\"\"\n",
    "f = open(\"text.txt\",'r')\n",
    "\n",
    "\"\"\"\n",
    "'r'       open for reading (default)\n",
    "'w'       open for writing, truncating the file first\n",
    "'x'       create a new file and open it for writing\n",
    "'a'       open for writing, appending to the end of the file if it exists\n",
    "'b'       binary mode\n",
    "'t'       text mode (default)\n",
    "'+'       open a disk file for updating (reading and writing)\n",
    "'U'       universal newline mode (deprecated)\n",
    "\n",
    "\n",
    "Read Only (‘r’) : Open text file for reading. The handle is positioned at the beginning of the file. \n",
    "                  If the file does not exists, raises the I/O error. This is also the default mode in which a file is opened.\n",
    "Read and Write (‘r+’): Open the file for reading and writing. The handle is positioned at the beginning of the file. \n",
    "                       Raises I/O error if the file does not exist.\n",
    "Write Only (‘w’) : Open the file for writing. For the existing files, the data is truncated and over-written. \n",
    "                   The handle is positioned at the beginning of the file. Creates the file if the file does not exist.\n",
    "Write and Read (‘w+’) : Open the file for reading and writing. For an existing file, data is truncated and over-written. \n",
    "                        The handle is positioned at the beginning of the file.\n",
    "Append Only (‘a’): Open the file for writing. The file is created if it does not exist. The handle is positioned at the end of the file. \n",
    "                   The data being written will be inserted at the end, after the existing data.\n",
    "Append and Read (‘a+’) : Open the file for reading and writing. The file is created if it does not exist. \n",
    "                         The handle is positioned at the end of the file. The data being written will be inserted at\n",
    "\n",
    "\"\"\"\n",
    "\n",
    "f= open(\"text.txt\",'r')\n",
    "f= open(\"text.txt\",'w')\n",
    "f= open(\"text.txt\",'x')\n",
    "f= open(\"text.txt\",'a')\n",
    "f= open(\"text.bmp\",'r+b')\n",
    "f= open(\"text.txt\",'t')"
   ]
  },
  {
   "cell_type": "code",
   "execution_count": 3,
   "id": "39e48303-e5b0-4d72-9188-4ccc1686e3fe",
   "metadata": {},
   "outputs": [
    {
     "name": "stdout",
     "output_type": "stream",
     "text": [
      "File Open Created Successfully.\n",
      "\n",
      "File is closed. None\n"
     ]
    }
   ],
   "source": [
    "# Q2. Why close() function is used? Why is it important to close a file?\n",
    "\n",
    "#Ans.\n",
    "\"\"\"\n",
    "When you open a file to perform a certain function as per the scenario, it's important to note that closing a file after each use is important.\n",
    "When the file is not closed once the interaction is completed, \n",
    "this not only wastes the program resources but also prevents other file interactions that can sometimes also lead\n",
    "to inconsistencies when you run your Python scripts with different Python versions. As we have limited resources that\n",
    "are being managed by the operating system it's always best to close the file after every use.\n",
    "\n",
    "It's always recommended to close a file while in some cases it's observed that due to buffering when changes are made \n",
    "to a file then it may not necessarily reflect until you have closed the file. Though with Python the file is\n",
    "automatically closed when the reference object of the file is allocated to another file, \n",
    "as a standard it is appreciated to close an opened file as it reduces the risk of being unwarrantedly modified or read.\n",
    "The close() file Python method can be called more than once but when any operation is performed on a closed file it raises a ValueError exception.\n",
    "\n",
    "\n",
    "close() file Python when you don’t need it. By closing the file, \n",
    "Python will flush all data in the temporary memory buffer into the file on the disk. \n",
    "This will make sure that all the system’s memory is released from handling the file which you just closed.\n",
    "\n",
    "Example:\n",
    "\"\"\"\n",
    "\n",
    "file = open(\"test.txt\",'r')\n",
    "print(\"File Open Created Successfully.\")\n",
    "read_file = file.read()\n",
    "print(read_file)\n",
    "close_file = file.close()\n",
    "print(\"File is closed.\", close_file)"
   ]
  },
  {
   "cell_type": "code",
   "execution_count": 8,
   "id": "d012e0dc-6055-40a7-a9cb-2c51e84e6dad",
   "metadata": {},
   "outputs": [
    {
     "data": {
      "text/plain": [
       "'I want to become a Data Scientist'"
      ]
     },
     "execution_count": 8,
     "metadata": {},
     "output_type": "execute_result"
    }
   ],
   "source": [
    "#Q3. Write a python program to create a text file. Write ‘I want to become a Data Scientist’ in that file.\n",
    "#    Then close the file. Open this file and read the content of the file.\n",
    "\n",
    "#Ans.\n",
    "\n",
    "f = open(\"text.txt\",'w')\n",
    "f.write(\"I want to become a Data Scientist\")\n",
    "f.close() \n",
    "f = open(\"text.txt\",'r')\n",
    "f.read()"
   ]
  },
  {
   "cell_type": "code",
   "execution_count": 16,
   "id": "0f8b51c1-9c0e-4a33-8e59-f9455d899956",
   "metadata": {},
   "outputs": [
    {
     "data": {
      "text/plain": [
       "\"When you open a file to perform a certain function as per the scenario, it's important to note that closing a file after each use is important.When the file is not closed once the interaction is completed, this not only wastes the program resources but also prevents other file interactions that can sometimes also lead to inconsistencies when you run your Python scripts with different Python versions. \\nAs we have limited resources thatare being managed by the operating system it's always best to close the file after every use.\""
      ]
     },
     "execution_count": 16,
     "metadata": {},
     "output_type": "execute_result"
    }
   ],
   "source": [
    "# Q4. Explain the following with python code: read(), readline() and readlines().\n",
    "\n",
    "#Ans.\n",
    "\"\"\"\n",
    "read(): This method is used to read the entire contents of a file into a string.\n",
    "It takes an optional integer parameter that specifies the maximum number of bytes to be read.\n",
    "If no argument is provided, it reads the entire file. \n",
    "\n",
    "readline(): This method reads a single line from the file and returns it as a string.\n",
    "It moves the file pointer to the next line after reading. If the end of the file is reached, \n",
    "it returns an empty string.\n",
    "\n",
    "readlines(): This method reads all the lines of the file and returns them as a list of strings.\n",
    "Each element in the list represents a single line, including the newline character at the end.\n",
    "\"\"\"\n",
    "\n",
    "f = open(\"text1.txt\",'w')\n",
    "f.write(\"When you open a file to perform a certain function as per the scenario, it's important to note that closing a file after each use is important.When the file is not closed once the interaction is completed, this not only wastes the program resources but also prevents other file interactions that can sometimes also lead to inconsistencies when you run your Python scripts with different Python versions. \\n\")\n",
    "f.write(\"As we have limited resources thatare being managed by the operating system it's always best to close the file after every use.\")\n",
    "f.close() \n",
    "f = open(\"text1.txt\",'r')\n",
    "f.read()\n"
   ]
  },
  {
   "cell_type": "code",
   "execution_count": 25,
   "id": "f08bae5a-01cb-42bb-8fb2-307393f3acfe",
   "metadata": {},
   "outputs": [
    {
     "data": {
      "text/plain": [
       "\"When you open a file to perform a certain function as per the scenario, it's important to note that closing a file after each use is important.When the file is not closed once the interaction is completed, this not only wastes the program resources but also prevents other file interactions that can sometimes also lead to inconsistencies when you run your Python scripts with different Python versions. \\n\""
      ]
     },
     "execution_count": 25,
     "metadata": {},
     "output_type": "execute_result"
    }
   ],
   "source": [
    "f.seek(0)\n",
    "f.readline()"
   ]
  },
  {
   "cell_type": "code",
   "execution_count": 26,
   "id": "3cde085e-9b7b-4f1b-8e0f-94c544d18233",
   "metadata": {},
   "outputs": [
    {
     "data": {
      "text/plain": [
       "[\"When you open a file to perform a certain function as per the scenario, it's important to note that closing a file after each use is important.When the file is not closed once the interaction is completed, this not only wastes the program resources but also prevents other file interactions that can sometimes also lead to inconsistencies when you run your Python scripts with different Python versions. \\n\",\n",
       " \"As we have limited resources thatare being managed by the operating system it's always best to close the file after every use.\"]"
      ]
     },
     "execution_count": 26,
     "metadata": {},
     "output_type": "execute_result"
    }
   ],
   "source": [
    "f.seek(0)\n",
    "f.readlines()"
   ]
  },
  {
   "cell_type": "code",
   "execution_count": 27,
   "id": "afeef022-e73e-4bfa-a6a0-766363eb876c",
   "metadata": {},
   "outputs": [
    {
     "name": "stdout",
     "output_type": "stream",
     "text": [
      "I want to become a Data Scientist\n"
     ]
    }
   ],
   "source": [
    "#Q5. Explain why with statement is used with open(). What is the advantage of using with statement and open() together?\n",
    "\n",
    "#Ans\n",
    "\"\"\"\n",
    "The with statement in Python is used to provide a context in which resources are managed,\n",
    "such as opening a file or establishing a network connection. \n",
    "The advantage of using the with statement with the open() function is that it automatically handles closing the file after it has been used, \n",
    "even if an error occurs during the processing.\n",
    "\n",
    "When we open a file using the open() function, we must remember to close the file once we have finished processing it. \n",
    "If we forget to close the file, it can cause problems, such as memory leaks or corrupted data.\n",
    "The with statement helps us to avoid this problem by ensuring that the file is automatically closed once we have finished using it,\n",
    "even if an error occurs.\n",
    "\"\"\"\n",
    "\n",
    "with open(\"text.txt\", \"r\") as f:\n",
    "    contents = f.read()\n",
    "print(contents)"
   ]
  },
  {
   "cell_type": "code",
   "execution_count": 36,
   "id": "f5b32193-1783-4144-9cd5-d6e493d3baea",
   "metadata": {},
   "outputs": [
    {
     "data": {
      "text/plain": [
       "['Hello, My name is Yashabh Goyal \\n',\n",
       " \"And I'm learning Data Science from pwskills\"]"
      ]
     },
     "execution_count": 36,
     "metadata": {},
     "output_type": "execute_result"
    }
   ],
   "source": [
    "#Q6. Explain the write() and writelines() functions. Give a suitable example.\n",
    "\n",
    "#Ans\n",
    "\"\"\"\n",
    "The write() function is used to write a string to a file. \n",
    "It takes a single string argument that represents the data to be written to the file. If the file does not exist, it is created. \n",
    "If it already exists, the data is appended to the end of the file. \n",
    "\n",
    "The writelines() function, on the other hand, is used to write a list of strings to a file.\n",
    "It takes a single argument that represents the list of strings to be written to the file. \n",
    "Each string in the list is written to the file as a separate line.\n",
    "\"\"\"\n",
    "\n",
    "#Example for write()\n",
    "f = open(\"text2.txt\",'w') \n",
    "f.write(\"Hello, My name is Yashabh Goyal \\n\")\n",
    "f.write(\"And I'm learning Data Science from pwskills\")\n",
    "f.close()\n",
    "f = open(\"text2.txt\",'r')\n",
    "f.readlines()"
   ]
  },
  {
   "cell_type": "code",
   "execution_count": 37,
   "id": "0db97bee-c8b0-463c-b1fb-4a6c884143fd",
   "metadata": {},
   "outputs": [
    {
     "ename": "TypeError",
     "evalue": "_IOBase.writelines() takes exactly one argument (2 given)",
     "output_type": "error",
     "traceback": [
      "\u001b[0;31m---------------------------------------------------------------------------\u001b[0m",
      "\u001b[0;31mTypeError\u001b[0m                                 Traceback (most recent call last)",
      "Cell \u001b[0;32mIn[37], line 3\u001b[0m\n\u001b[1;32m      1\u001b[0m \u001b[38;5;66;03m#Example for writelines()\u001b[39;00m\n\u001b[1;32m      2\u001b[0m f \u001b[38;5;241m=\u001b[39m \u001b[38;5;28mopen\u001b[39m(\u001b[38;5;124m\"\u001b[39m\u001b[38;5;124mtext2.txt\u001b[39m\u001b[38;5;124m\"\u001b[39m,\u001b[38;5;124m'\u001b[39m\u001b[38;5;124mw\u001b[39m\u001b[38;5;124m'\u001b[39m) \n\u001b[0;32m----> 3\u001b[0m \u001b[43mf\u001b[49m\u001b[38;5;241;43m.\u001b[39;49m\u001b[43mwritelines\u001b[49m\u001b[43m(\u001b[49m\u001b[38;5;124;43m\"\u001b[39;49m\u001b[38;5;124;43mHello, My name is Yashabh Goyal \u001b[39;49m\u001b[38;5;130;43;01m\\n\u001b[39;49;00m\u001b[38;5;124;43m\"\u001b[39;49m\u001b[43m,\u001b[49m\u001b[38;5;124;43m\"\u001b[39;49m\u001b[38;5;124;43mAnd I\u001b[39;49m\u001b[38;5;124;43m'\u001b[39;49m\u001b[38;5;124;43mm learning Data Science from pwskills\u001b[39;49m\u001b[38;5;124;43m\"\u001b[39;49m\u001b[43m)\u001b[49m\n",
      "\u001b[0;31mTypeError\u001b[0m: _IOBase.writelines() takes exactly one argument (2 given)"
     ]
    }
   ],
   "source": [
    "#Example for writelines()\n",
    "f = open(\"text2.txt\",'w') \n",
    "f.writelines(\"Hello, My name is Yashabh Goyal \\n\",\"And I'm learning Data Science from pwskills\")"
   ]
  },
  {
   "cell_type": "code",
   "execution_count": null,
   "id": "41d687f0-5173-4e90-9d43-4214cb4e610c",
   "metadata": {},
   "outputs": [],
   "source": []
  }
 ],
 "metadata": {
  "kernelspec": {
   "display_name": "Python 3 (ipykernel)",
   "language": "python",
   "name": "python3"
  },
  "language_info": {
   "codemirror_mode": {
    "name": "ipython",
    "version": 3
   },
   "file_extension": ".py",
   "mimetype": "text/x-python",
   "name": "python",
   "nbconvert_exporter": "python",
   "pygments_lexer": "ipython3",
   "version": "3.10.8"
  }
 },
 "nbformat": 4,
 "nbformat_minor": 5
}
