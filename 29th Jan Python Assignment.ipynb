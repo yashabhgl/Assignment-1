{
 "cells": [
  {
   "cell_type": "code",
   "execution_count": null,
   "id": "1fb29431-9ee1-4c0f-b2d9-bc040d6162c8",
   "metadata": {},
   "outputs": [],
   "source": [
    "PWSkills assignment1 of Data Science Masters all answers"
   ]
  },
  {
   "cell_type": "code",
   "execution_count": null,
   "id": "a8088fdd-3945-4718-8c40-f9c2c079b518",
   "metadata": {},
   "outputs": [],
   "source": [
    "Q1. Who developed Python Programming Language? \n",
    "\n",
    "Ans. Python was created by Guido van Rossum and was first released in 1991."
   ]
  },
  {
   "cell_type": "code",
   "execution_count": null,
   "id": "10a8a603-f607-4746-b67b-09298f009e1b",
   "metadata": {},
   "outputs": [],
   "source": [
    "Q2. Which type of Programming does Python support? \n",
    "\n",
    "Ans. Python is a multi-paradigm programming language, which means it supports multiple programming styles.\n",
    "\n",
    "Imperative Programming: Python supports imperative programming, which is a style of programming that focuses on giving the computer a sequence of tasks to perform. Imperative programming is based on the idea of making changes to a program's state.\n",
    "\n",
    "Object-Oriented Programming (OOP): Python is an object-oriented programming language. OOP is a programming paradigm that focuses on using objects and classes to design applications and computer programs. It is based on the concept of objects, which have data and methods.\n",
    "\n",
    "Functional Programming: Python also supports functional programming, which is a style of programming that emphasizes the use of functions to build programs. In functional programming, functions are first-class citizens, meaning that they can be used as arguments or return values just like any other data type.\n",
    "\n",
    "Procedural Programming: Python also supports procedural programming, which is a style of programming that focuses on breaking down a program into procedures or subroutines. Procedures are similar to functions and can be used to encapsulate a specific task or set of tasks."
   ]
  },
  {
   "cell_type": "code",
   "execution_count": null,
   "id": "08ad46dc-7970-4965-af0b-781f8f0012ef",
   "metadata": {},
   "outputs": [],
   "source": [
    "Q3. Is Python case sensitive when dealing with identifiers? \n",
    "\n",
    "Ans. Yes, Python is case sensitive when dealing with identifiers. This means that the names you give to variables, functions, classes, and other elements of your code must be spelled exactly the same way each time you use them. For example, if you have a variable named \"myVariable,\" you cannot refer to it as \"myvariable\" or \"MyVariable.\" The names must match exactly, including the case of each letter."
   ]
  },
  {
   "cell_type": "code",
   "execution_count": null,
   "id": "7afed333-1149-4c31-8e71-ff50b20968b8",
   "metadata": {},
   "outputs": [],
   "source": [
    "Q4. What is the correct extension of the Python file? \n",
    "\n",
    "Ans. The correct extension for a Python file is \".py\". And in Jupyter the extension used is \".ipynb\"."
   ]
  },
  {
   "cell_type": "code",
   "execution_count": null,
   "id": "c5b74f2f-ffef-4a12-81d1-2570bca63c2e",
   "metadata": {},
   "outputs": [],
   "source": [
    "Q5. Is Python code compiled or interpreted? \n",
    "\n",
    "Ans. Python code is interpreted, not compiled. This means that the Python interpreter reads and executes the code line by line, rather than compiling it into machine code and executing that machine code. This approach has several advantages, including the ability to run the code on a variety of platforms without the need for recompilation and the ease of debugging and testing code."
   ]
  },
  {
   "cell_type": "code",
   "execution_count": null,
   "id": "7fd78809-dfb4-4fe0-81d2-ceae60d82fef",
   "metadata": {},
   "outputs": [],
   "source": [
    "Q6. Name a few blocks of code used to define in Python language? \n",
    "\n",
    "Ans. In Python, a few blocks of code used to define are:\n",
    "\n",
    "Functions: Functions are blocks of code that can be reused throughout the program. They are defined using the \"def\" keyword and can accept input arguments and return values.\n",
    "\n",
    "Classes: Classes are blocks of code that define objects and their properties and behaviors. They are defined using the \"class\" keyword and can contain variables, methods, and other class definitions.\n",
    "\n",
    "Conditional statements: Conditional statements are blocks of code that are executed only if a certain condition is met. In Python, conditional statements are defined using the \"if\" keyword and can include \"elif\" and \"else\" clauses.\n",
    "\n",
    "Loops: Loops are blocks of code that repeat a specific action a set number of times or until a certain condition is met. In Python, loops can be defined using the \"for\" and \"while\" keywords."
   ]
  },
  {
   "cell_type": "code",
   "execution_count": null,
   "id": "a232e88d-ceba-4534-93cb-811a2de30f3f",
   "metadata": {},
   "outputs": [],
   "source": [
    "Q7. State a character used to give single-line comments in Python? \n",
    "\n",
    "Ans. The character used to give single-line comments in Python is the pound (#) symbol.\n",
    "    Ex. # This is a single-line comment in Python"
   ]
  },
  {
   "cell_type": "code",
   "execution_count": null,
   "id": "12417c1c-9bff-458d-9294-3a0634421c67",
   "metadata": {},
   "outputs": [],
   "source": [
    "Q8. Mention functions which can help us to find the version of python that we are currently working on?\n",
    "\n",
    "Ans. sys.version: This returns a string containing information about the version of Python you are running, including the Python interpreter name, version number, and build information.\n",
    "    Ex.     import sys\n",
    "            print(sys.version)"
   ]
  },
  {
   "cell_type": "code",
   "execution_count": 9,
   "id": "a90ff32e-7b94-4612-81a7-132019d7c1ba",
   "metadata": {},
   "outputs": [
    {
     "name": "stdout",
     "output_type": "stream",
     "text": [
      "3.10.8 | packaged by conda-forge | (main, Nov 22 2022, 08:26:04) [GCC 10.4.0]\n"
     ]
    }
   ],
   "source": [
    "import sys\n",
    "print(sys.version)\n"
   ]
  },
  {
   "cell_type": "code",
   "execution_count": null,
   "id": "59a824ee-511c-4eb5-a5a7-54247ebe307a",
   "metadata": {},
   "outputs": [],
   "source": [
    "Q9. Python supports the creation of anonymous functions at runtime, using a construct called.......\n",
    "\n",
    "Ans. \"lambda.\" The lambda keyword is used to create anonymous functions, also known as lambda functions."
   ]
  },
  {
   "cell_type": "code",
   "execution_count": null,
   "id": "84df8ab6-a4a5-4b88-a68f-1ce3e445783c",
   "metadata": {},
   "outputs": [],
   "source": [
    "Q10. What does pip stand for python?\n",
    "\n",
    "Ans. PIP stands for \"Pip Installs Packages.\" It is a package management system for installing and managing packages for the Python programming language."
   ]
  },
  {
   "cell_type": "code",
   "execution_count": null,
   "id": "a32bffa6-c7a6-4eff-8563-4b755ce0e4f1",
   "metadata": {},
   "outputs": [],
   "source": [
    "Q11. Mention a few built-in functions in python? \n",
    "\n",
    "Ans.print() \n",
    "len() \n",
    "str() \n",
    "float()\n",
    "sum()\n",
    "min()\n",
    "max()\n",
    "sorted()\n"
   ]
  },
  {
   "cell_type": "code",
   "execution_count": null,
   "id": "197fdc58-daaf-4e63-b903-db850988c485",
   "metadata": {},
   "outputs": [],
   "source": [
    "Q12. What is the maximum possible length of an identifier in Python?\n",
    "\n",
    "Ans. 79 characters, As per google.\n",
    "But i tried something and found that there is no limit.\n"
   ]
  },
  {
   "cell_type": "code",
   "execution_count": 20,
   "id": "8077cf01-f67b-4d5b-81a5-dc1073240a26",
   "metadata": {},
   "outputs": [
    {
     "data": {
      "text/plain": [
       "100"
      ]
     },
     "execution_count": 20,
     "metadata": {},
     "output_type": "execute_result"
    }
   ],
   "source": [
    "len(str(\"VeryLongAndDescriptiveIdentifierForDemonstrationPurposesis_hundredcharacter_100chars_andstillworking\"))"
   ]
  },
  {
   "cell_type": "code",
   "execution_count": 21,
   "id": "c97a15c2-091c-443f-ba8f-6ef080c00e46",
   "metadata": {},
   "outputs": [
    {
     "name": "stdout",
     "output_type": "stream",
     "text": [
      "Example\n"
     ]
    }
   ],
   "source": [
    "VeryLongAndDescriptiveIdentifierForDemonstrationPurposesis_hundredcharacter_100chars_andstillworking = \"Example\"\n",
    "print(VeryLongAndDescriptiveIdentifierForDemonstrationPurposesis_hundredcharacter_100chars_andstillworking)"
   ]
  },
  {
   "cell_type": "code",
   "execution_count": null,
   "id": "b2d4b7ea-c6b1-44c0-bcf6-1b3cd4bf37d2",
   "metadata": {},
   "outputs": [],
   "source": [
    "Q13. What are the benefits of using Python? \n",
    "\n",
    "Ans. Easy to learn and use: Python has a simple and straightforward syntax, making it an easy language for beginners to pick up.\n",
    "\n",
    "Versatile: Python is used for a wide range of tasks, such as web development, scientific computing, data analysis, artificial intelligence, and more.\n",
    "\n",
    "Large community: Python has a huge and active community of developers, which makes it easier to find support and resources for the language.\n",
    "\n",
    "High-level language: Python is a high-level language, which means that it abstracts many of the complexities of low-level languages, making it easier to focus on solving problems.\n",
    "\n",
    "Plenty of libraries and modules: Python has a vast library of pre-written code (such as NumPy, Pandas, and Matplotlib), which makes it easier to add functionality to your projects without having to write everything from scratch.\n",
    "\n",
    "Dynamic and interpreted: Python is a dynamically-typed and interpreted language, which makes it easy to test code and quickly iterate on your projects."
   ]
  },
  {
   "cell_type": "code",
   "execution_count": null,
   "id": "a68261d1-c216-4100-8992-8830b12473fb",
   "metadata": {},
   "outputs": [],
   "source": [
    "Q14. How is memory managed in Python? \n",
    "\n",
    "Ans. Python uses a memory manager to handle memory management. It automatically manages the allocation of memory for objects and data structures, as well as freeing memory that is no longer in use. This helps to simplify the task of writing memory-efficient applications and reduces the risk of memory leaks. The memory manager in Python is based on a dynamic system, which means that the amount of memory used by an application can increase or decrease dynamically during execution based on the needs of the program."
   ]
  },
  {
   "cell_type": "code",
   "execution_count": null,
   "id": "f0bc5af4-9077-453b-bc9e-d3c61d51cdbe",
   "metadata": {},
   "outputs": [],
   "source": [
    "Q15. How to install Python on Windows and set path variables? 16. Is indentation required in python? \n"
   ]
  }
 ],
 "metadata": {
  "kernelspec": {
   "display_name": "Python 3 (ipykernel)",
   "language": "python",
   "name": "python3"
  },
  "language_info": {
   "codemirror_mode": {
    "name": "ipython",
    "version": 3
   },
   "file_extension": ".py",
   "mimetype": "text/x-python",
   "name": "python",
   "nbconvert_exporter": "python",
   "pygments_lexer": "ipython3",
   "version": "3.10.8"
  }
 },
 "nbformat": 4,
 "nbformat_minor": 5
}
