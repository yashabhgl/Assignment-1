{
 "cells": [
  {
   "cell_type": "code",
   "execution_count": null,
   "id": "c6c7b890-706a-4707-b683-70f8abdb3427",
   "metadata": {},
   "outputs": [],
   "source": [
    "#Q1. what is Exception in python? Write the difference between Exceptions and Syntax errors.\n",
    "\n",
    "#Ans.\n",
    "\"\"\"\n",
    "An Exception is an error that happens during the execution of a program. Whenever there is an error, \n",
    "Python generates an exception that could be handled. It basically prevents the program from getting crashed.\n",
    "Many a time, there are valid as well as invalid exceptions. \n",
    "Exceptions are convenient in many ways for handling errors and special conditions in a program. \n",
    "When you think that you have a code which can produce an error, you can use exception handling technique.\n",
    "\n",
    "difference between exception and syntax error:\n",
    "\n",
    "A syntax error occurs when the structure of a program does not conform to the rules of the programming language. \n",
    "Syntax errors are usually detected by the compiler or interpreter when the program is being compiled or executed,\n",
    "and they prevent the program from running. Syntax errors are usually caused by mistakes in the source code, such as typos, \n",
    "omissions, or incorrect use of syntax.\n",
    "\n",
    "An exception is an abnormal event that occurs during the execution of a program. Exceptions are usually caused by runtime errors, \n",
    "such as dividing by zero, trying to access an element in an array with an out-of-bounds index, or trying to access a \n",
    "file that does not exist. Exceptions are not syntax errors, but they can still prevent the program from running if they are not handled properly.\n",
    "\"\"\""
   ]
  },
  {
   "cell_type": "code",
   "execution_count": 5,
   "id": "2f846522-57a8-435d-8c63-01298856d602",
   "metadata": {},
   "outputs": [
    {
     "name": "stdout",
     "output_type": "stream",
     "text": [
      "Result is  2.0\n",
      "Finally\n"
     ]
    },
    {
     "ename": "NameError",
     "evalue": "name 'a' is not defined",
     "output_type": "error",
     "traceback": [
      "\u001b[0;31m---------------------------------------------------------------------------\u001b[0m",
      "\u001b[0;31mNameError\u001b[0m                                 Traceback (most recent call last)",
      "Cell \u001b[0;32mIn[5], line 19\u001b[0m\n\u001b[1;32m     16\u001b[0m         \u001b[38;5;28mprint\u001b[39m(\u001b[38;5;124m\"\u001b[39m\u001b[38;5;124mFinally\u001b[39m\u001b[38;5;124m\"\u001b[39m)\n\u001b[1;32m     18\u001b[0m divide(\u001b[38;5;241m4\u001b[39m,\u001b[38;5;241m2\u001b[39m) \n\u001b[0;32m---> 19\u001b[0m divide(\u001b[43ma\u001b[49m,b)\n",
      "\u001b[0;31mNameError\u001b[0m: name 'a' is not defined"
     ]
    }
   ],
   "source": [
    "#Q2. What happens when an exception is not handled? Explain with an example ?\n",
    "\n",
    "#Ans.\n",
    "\"\"\"\n",
    "If an exception occurs during execution of the try clause, the exception may be handled by an except clause. \n",
    "If the exception is not handled by an except clause, the exception is re-raised after the finally clause has been executed.\n",
    "\"\"\"\n",
    "\n",
    "#Example\n",
    "def divide(x,y):\n",
    "    try:\n",
    "        result = x/y\n",
    "    except ZeroDivisionError:\n",
    "        print(\"divided by zero\")\n",
    "    else:\n",
    "        print(\"Result is \",result)\n",
    "    finally:\n",
    "        print(\"Finally\")\n",
    "\n",
    "divide(4,2) \n",
    "divide(a,b)"
   ]
  },
  {
   "cell_type": "code",
   "execution_count": 8,
   "id": "a18da350-c617-411a-958b-42cf756358c2",
   "metadata": {},
   "outputs": [
    {
     "name": "stdout",
     "output_type": "stream",
     "text": [
      "File not found error\n"
     ]
    }
   ],
   "source": [
    "#Q3. Which python statements are used to catch and handle exceptions? Explain with an example.\n",
    "\n",
    "#Ans.\n",
    "\"\"\"\n",
    "In Python, the try and except statements are used to catch and handle exceptions.\n",
    "\n",
    "The basic syntax of a try-except block is as follows:\n",
    "\n",
    "try:\n",
    "    # code that might raise an exception\n",
    "except:\n",
    "    # code to handle the exception\n",
    "    \n",
    "\n",
    "In this example, the code inside the try block might raise an exception.\n",
    "If an exception is raised, the code inside the except block will be executed to handle the exception.\n",
    "\"\"\"\n",
    "\n",
    "#Example\n",
    "try:\n",
    "    f=open(\"tex.txt\",'r')\n",
    "except FileNotFoundError:\n",
    "    print(\"File not found error\")\n",
    "    "
   ]
  },
  {
   "cell_type": "code",
   "execution_count": 5,
   "id": "a5857f52-db42-4ff3-b410-fc7140d86a4d",
   "metadata": {},
   "outputs": [
    {
     "name": "stdout",
     "output_type": "stream",
     "text": [
      "File not found error\n",
      "File not found error\n",
      "Program Executed.\n"
     ]
    },
    {
     "name": "stdin",
     "output_type": "stream",
     "text": [
      "Enter age =  200\n"
     ]
    },
    {
     "name": "stdout",
     "output_type": "stream",
     "text": [
      "Age is too much\n"
     ]
    }
   ],
   "source": [
    "\"\"\"\n",
    "Q3.Explain with an Example:\n",
    "    a. try and else\n",
    "    b. finally\n",
    "    c. raise\n",
    "\"\"\"    \n",
    "#Ans.\n",
    "\"\"\"\n",
    "In Python, the try statement can also be followed by an else clause. The else block is executed if no exception is raised in the try block.\n",
    "\n",
    "In Python, the finally clause can be used in combination with the try statement. \n",
    "The finally block contains code that will be executed regardless of whether an exception is raised or not.\n",
    "\n",
    "In Python, the raise statement can be used to raise an exception explicitly. \n",
    "\"\"\"\n",
    "\n",
    "\n",
    "#Example - a. try and else\n",
    "try:\n",
    "    f=open(\"tex.txt\",'r')\n",
    "except FileNotFoundError:\n",
    "    print(\"File not found error\")\n",
    "else:\n",
    "    print(\"File is ready to read\")\n",
    "    \n",
    "    \n",
    "    \n",
    "#Example - b. finally\n",
    "try:\n",
    "    f=open(\"tex.txt\",'r')\n",
    "except FileNotFoundError:\n",
    "    print(\"File not found error\")\n",
    "finally:\n",
    "    print(\"Program Executed.\")\n",
    "    \n",
    "    \n",
    "    \n",
    "#Example - c. raise\n",
    "def validateage(age):\n",
    "    if age < 0:\n",
    "        raise Exception(\"Sorry, no numbers below zero\")\n",
    "    elif age>150:\n",
    "        raise Exception(\"Age is too much\")\n",
    "    else:\n",
    "        print(\"Age entered is = \",age)\n",
    "try:\n",
    "    age = int(input(\"Enter age = \"))\n",
    "    validateage(age)\n",
    "except Exception as e:\n",
    "    print(e)"
   ]
  },
  {
   "cell_type": "code",
   "execution_count": 10,
   "id": "81878824-89f6-44c0-b758-f17bc34879af",
   "metadata": {},
   "outputs": [
    {
     "name": "stdin",
     "output_type": "stream",
     "text": [
      "Enter Temperature =  2\n"
     ]
    },
    {
     "name": "stdout",
     "output_type": "stream",
     "text": [
      "Temperature entered is low\n"
     ]
    }
   ],
   "source": [
    "#Q5.What are custom Exception in python? Why do need custom Exceptions?Explain with an example.\n",
    "\n",
    "#Ans.\n",
    "\"\"\"\n",
    "Python detects all the critical errors that occur during Compile-time and Runtime. \n",
    "It stops the program's execution if the error occurs and raises an exception. \n",
    "Some commonly raised Exceptions are ArithmeticError, AttributeError, ImportError, IOError, FileNotFoundError, etc.\n",
    "\n",
    "Sometimes we must enforce constraints on the values that specific program variables can take or save\n",
    "the program from running into an undesired state.\n",
    "In such situations, Python allows programmers to create custom Exceptions. To create a custom Exception,\n",
    "we need to create a class directly or indirectly derived from the built-in Exception class.\n",
    "\n",
    "Need of custom Exceptions :-\n",
    "\n",
    "Suppose you need to develop a program that converts a temperature from Fahrenheit to Celsius.\n",
    "The minimum and maximum values of a temperature in Fahrenheit are 32 and 212.\n",
    "If users enter a value that is not in this range, you want to raise a custom exception e.g., FahrenheitError.\n",
    "\"\"\"\n",
    "\n",
    "#Example :\n",
    "\n",
    "class FahrenheitError(Exception):\n",
    "    \n",
    "    def __init__(self,msg):\n",
    "        self.msg = msg\n",
    "        \n",
    "def temprature(temp):\n",
    "    if temp < 32:\n",
    "        raise FahrenheitError(\"Temperature entered is low\")\n",
    "    elif temp > 212:\n",
    "        raise FahrenheitError(\"Temperature entered is High\")\n",
    "    else:\n",
    "        print(\"Temperature is \",temp)\n",
    "\n",
    "try:\n",
    "    temp = int(input(\"Enter Temperature = \"))\n",
    "    temprature(temp)\n",
    "except Exception as e:\n",
    "    print(e)"
   ]
  },
  {
   "cell_type": "code",
   "execution_count": 15,
   "id": "9c68d7f8-9e82-42c0-aa0d-dc87e920b805",
   "metadata": {},
   "outputs": [
    {
     "name": "stdin",
     "output_type": "stream",
     "text": [
      "Enter Temperature =  1000\n"
     ]
    },
    {
     "name": "stdout",
     "output_type": "stream",
     "text": [
      "Age is HIgh, Enter correct age\n"
     ]
    }
   ],
   "source": [
    "#Q6.Create a custom exception class.Use this class to handle an exception.\n",
    "\n",
    "#Ans. \n",
    "\n",
    "class valid_age(Exception):\n",
    "    def __init__(self,msg):\n",
    "        self.msg = msg\n",
    "        \n",
    "def age_age(age):\n",
    "    if age>150:\n",
    "        raise valid_age(\"Age is HIgh, Enter correct age\")\n",
    "    elif age<0:\n",
    "        raise valid_age(\"Age is low, Enter correct age\")\n",
    "    else:\n",
    "        print(\"valid age\")\n",
    "\n",
    "try:\n",
    "    age = int(input(\"Enter Temperature = \"))\n",
    "    age_age(age)\n",
    "except Exception as e:\n",
    "    print(e)       \n"
   ]
  },
  {
   "cell_type": "code",
   "execution_count": null,
   "id": "79f0a966-529a-40c2-ba7c-c6561cd5c937",
   "metadata": {},
   "outputs": [],
   "source": []
  }
 ],
 "metadata": {
  "kernelspec": {
   "display_name": "Python 3 (ipykernel)",
   "language": "python",
   "name": "python3"
  },
  "language_info": {
   "codemirror_mode": {
    "name": "ipython",
    "version": 3
   },
   "file_extension": ".py",
   "mimetype": "text/x-python",
   "name": "python",
   "nbconvert_exporter": "python",
   "pygments_lexer": "ipython3",
   "version": "3.10.8"
  }
 },
 "nbformat": 4,
 "nbformat_minor": 5
}
