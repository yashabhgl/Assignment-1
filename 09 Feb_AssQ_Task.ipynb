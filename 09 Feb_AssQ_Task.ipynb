{
 "cells": [
  {
   "cell_type": "code",
   "execution_count": 17,
   "id": "37e56768-6366-4cef-b9b6-33dd9a24ca12",
   "metadata": {},
   "outputs": [
    {
     "data": {
      "text/plain": [
       "('wagonr', 180, 20)"
      ]
     },
     "execution_count": 17,
     "metadata": {},
     "output_type": "execute_result"
    }
   ],
   "source": [
    "# Q1. Create a vehicle class with an init method having instance variables as name_of_vehicle, max_speed\n",
    "#     and average_of_vehicle.\n",
    "\n",
    "#Ans. \n",
    "\n",
    "class vehicle:\n",
    "    \n",
    "    def __init__(self,name_of_vehicle, max_speed,average_of_vehicle):\n",
    "        self.name_of_vehicle = name_of_vehicle\n",
    "        self.max_speed = max_speed\n",
    "        self.average_of_vehicle = average_of_vehicle\n",
    "        \n",
    "        \n",
    "    def return_vehicle_data(self):\n",
    "        return self.name_of_vehicle,self.max_speed,self.average_of_vehicle\n",
    "    \n",
    "\n",
    "test1 = vehicle('wagonr',180, 20)\n",
    "test1.return_vehicle_data()"
   ]
  },
  {
   "cell_type": "code",
   "execution_count": 26,
   "id": "3f359f58-31fa-4e41-b8e1-911a6a813ba4",
   "metadata": {},
   "outputs": [
    {
     "data": {
      "text/plain": [
       "('BMW', 4)"
      ]
     },
     "execution_count": 26,
     "metadata": {},
     "output_type": "execute_result"
    }
   ],
   "source": [
    "\"\"\"\n",
    "Q2. Create a child class car from the vehicle class created in Que 1, which will inherit the vehicle class.\n",
    "Create a method named seating_capacity which takes capacity as an argument and returns the name of\n",
    "the vehicle and its seating capacity.\n",
    "\"\"\"\n",
    "\n",
    "#Ans.\n",
    "\n",
    "class car(vehicle):\n",
    "    \n",
    "    def seating_capacity(self,capacity):\n",
    "        return self.name_of_vehicle,capacity\n",
    "\n",
    "test2 = car('BMW',180, 20)\n",
    "test2.seating_capacity(4)"
   ]
  },
  {
   "cell_type": "code",
   "execution_count": 32,
   "id": "e3a052b7-60f4-418f-ae4e-426a18bb0f63",
   "metadata": {},
   "outputs": [
    {
     "name": "stdout",
     "output_type": "stream",
     "text": [
      "this is class 'A'\n",
      "this is class 'B'\n",
      "this is class 'A'\n",
      "this is class 'B'\n",
      "this is class 'C'\n"
     ]
    }
   ],
   "source": [
    "#Q3. What is multiple inheritance? Write a python code to demonstrate multiple inheritance.\n",
    "\n",
    "#Ans.\n",
    "\"\"\"\n",
    "Multiple Inheritance : Multiple inheritance is a feature of some object-oriented computer programming languages\n",
    "in which an object or class can inherit characteristics and features from more than one parent object or the parent class .\n",
    "\"\"\"\n",
    "class A :\n",
    "    \n",
    "    def test_fun1(self):\n",
    "        print(\"this is class 'A'\")\n",
    "        \n",
    "class B:\n",
    "    \n",
    "    def test_fun2(self):\n",
    "        print(\"this is class 'B'\")\n",
    "        \n",
    "class C(A,B):\n",
    "    \n",
    "    def test_fun3(self):\n",
    "        print(\"this is class 'C'\")\n",
    "    \n",
    "t1 = A()\n",
    "t2 = B()\n",
    "t3 = C()\n",
    "\n",
    "#This is class A\n",
    "t1.test_fun1()\n",
    "\n",
    "#This is class B\n",
    "t2.test_fun2()\n",
    "\n",
    "#This is class C and inherite A and B\n",
    "t3.test_fun1()\n",
    "t3.test_fun2()\n",
    "t3.test_fun3()"
   ]
  },
  {
   "cell_type": "code",
   "execution_count": 13,
   "id": "7a1548a5-c48a-4e72-9549-51dfadb255ba",
   "metadata": {},
   "outputs": [],
   "source": [
    "#Q4. What are getter and setter in python? Create a class and create a getter and a setter method in this class.\n",
    "\n",
    "#Ans. \n",
    "\n",
    "\"\"\"\n",
    "In Python, getters and setters are not the same as those in other object-oriented programming languages. Basically, \n",
    "the main purpose of using getters and setters in object-oriented programs is to ensure data encapsulation. \n",
    "Private variables in python are not actually hidden fields like in other object oriented languages. \n",
    "\n",
    "Getters and Setters in python are often used when:\n",
    ". We use getters & setters to add validation logic around getting and setting a value.\n",
    ". To avoid direct access of a class field i.e. private variables cannot be accessed directly or modified by external user.\n",
    "\n",
    "getters and setters are:\n",
    "\n",
    "Getter: A method that allows you to access an attribute in a given class\n",
    "Setter: A method that allows you to set or mutate the value of an attribute in a class\n",
    "In OOP, the getter and setter pattern suggests that public attributes should be used only when you’re sure \n",
    "that no one will ever need to attach behavior to them. If an attribute is likely to change its internal implementation, \n",
    "then you should use getter and setter methods.\n",
    "\"\"\"\n",
    "\n",
    "class used_car:\n",
    "    \n",
    "    def __init__(self,year,model,car_price):\n",
    "        self.__car_price = car_price\n",
    "        self.__year = year\n",
    "        self.__model = model\n",
    "        \n",
    "    def set_price(self,price):\n",
    "        self.__car_price = price\n",
    "        \n",
    "    def get_price(self):\n",
    "        return self.__car_price\n",
    "    \n",
    "    \n",
    "c = used_car(2020,'Porsche',1000000)\n"
   ]
  },
  {
   "cell_type": "code",
   "execution_count": 14,
   "id": "3010197d-a10e-46a6-b389-b7e8d57e113b",
   "metadata": {},
   "outputs": [
    {
     "data": {
      "text/plain": [
       "1000000"
      ]
     },
     "execution_count": 14,
     "metadata": {},
     "output_type": "execute_result"
    }
   ],
   "source": [
    "c.get_price()"
   ]
  },
  {
   "cell_type": "code",
   "execution_count": 17,
   "id": "d8296015-0e42-463c-a7c2-2414b1e0eb39",
   "metadata": {},
   "outputs": [],
   "source": [
    "c.set_price(500000)"
   ]
  },
  {
   "cell_type": "code",
   "execution_count": 18,
   "id": "ca3adce6-6f01-415f-a02f-612e5009dfbe",
   "metadata": {},
   "outputs": [
    {
     "data": {
      "text/plain": [
       "500000"
      ]
     },
     "execution_count": 18,
     "metadata": {},
     "output_type": "execute_result"
    }
   ],
   "source": [
    "c.get_price()"
   ]
  },
  {
   "cell_type": "code",
   "execution_count": 23,
   "id": "97b9f411-be33-44fb-9c88-66dacd5f2786",
   "metadata": {},
   "outputs": [
    {
     "name": "stdout",
     "output_type": "stream",
     "text": [
      "This is animal class\n",
      "Dog class\n",
      "This is Dog Class\n"
     ]
    }
   ],
   "source": [
    "#Q5.What is method overriding in python? Write a python code to demonstrate method overriding.\n",
    "\n",
    "#Ans.\n",
    "\"\"\"\n",
    "Method overriding is an ability of any object-oriented programming language that allows a subclass or child class to provide \n",
    "a specific implementation of a method that is already provided by one of its super-classes or parent classes.\n",
    "When a method in a subclass has the same name, same parameters or signature and same return type(or sub-type) as a method in its super-class, \n",
    "then the method in the subclass is said to override the method in the super-class.\n",
    "\"\"\"\n",
    "\n",
    "class animal:\n",
    "    \n",
    "    def __init__(self):\n",
    "        pass\n",
    "    \n",
    "    def move(self):\n",
    "        print( \"This is animal class\")\n",
    "        \n",
    "    def about(self):\n",
    "        print (\"Animals class\")\n",
    "    \n",
    "class dog(animal):\n",
    "    \n",
    "    def __init__(self):\n",
    "        pass\n",
    "    \n",
    "    def move(self):\n",
    "        print (\"This is Dog Class\")\n",
    "    def speci(self):\n",
    "        print (\"Dog class\")\n",
    "    \n",
    "\n",
    "a = animal()\n",
    "b = dog()\n",
    "\n",
    "a.move()\n",
    "b.speci()\n",
    "b.move()"
   ]
  },
  {
   "cell_type": "code",
   "execution_count": null,
   "id": "078a578b-edba-48e7-b853-eb786510f3e2",
   "metadata": {},
   "outputs": [],
   "source": []
  }
 ],
 "metadata": {
  "kernelspec": {
   "display_name": "Python 3 (ipykernel)",
   "language": "python",
   "name": "python3"
  },
  "language_info": {
   "codemirror_mode": {
    "name": "ipython",
    "version": 3
   },
   "file_extension": ".py",
   "mimetype": "text/x-python",
   "name": "python",
   "nbconvert_exporter": "python",
   "pygments_lexer": "ipython3",
   "version": "3.10.8"
  }
 },
 "nbformat": 4,
 "nbformat_minor": 5
}
